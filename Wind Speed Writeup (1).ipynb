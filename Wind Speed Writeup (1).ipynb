{
 "cells": [
  {
   "cell_type": "markdown",
   "metadata": {},
   "source": [
    "####                                                                                                                                                                                            Carol Chiu \n",
    "####                                                                                                                                                                                            April 16, 2020\n",
    "\n",
    "\n",
    "# Wind Speed Time Series Forecasting Report"
   ]
  },
  {
   "cell_type": "markdown",
   "metadata": {},
   "source": [
    "### Objective: \n",
    "######The goal of this project is to accurately and efficiently forecast wind speeds occurring at a powerplant operation in Marmara, Turkey. Marmara is a region of Turkey that is known for her high wind speeds with the average wind speed reaching as fast as 3.3 m/s. As a powerplant operator, I am interested in protecting my special equipment that can only function properly when wind speeds are below 50 mph. I have a protection system installed for my equipment but it takes 5 minutes for the system to fully load and work. Thus, I need an accurate predictive model that I can use to sound an alarm when the wind speed might be greater than 50 mph in the next 5 minutes of the operation. Doing so will save me in damage costs to my powerplant and reduce health hazard and safety hazard costs to my employees, clients, and myself."
   ]
  },
  {
   "cell_type": "markdown",
   "metadata": {},
   "source": [
    "### Source of Data: \n",
    "######Wind speed data is obtain from ASOS censors developed by the "
   ]
  },
  {
   "cell_type": "markdown",
   "metadata": {},
   "source": [
    "### Methods Used:\n",
    "######1) ARIMA Model\n",
    "######2) VARMAX Model\n",
    "######3) SARIMAX Model\n",
    "######4) Hidden Markov Model\n",
    "######5) Triple Exponential Smoothing Model"
   ]
  },
  {
   "cell_type": "markdown",
   "metadata": {},
   "source": [
    "### Exploratory Data Analysis for One Month (December 2001) :"
   ]
  },
  {
   "cell_type": "code",
   "execution_count": 1,
   "metadata": {},
   "outputs": [],
   "source": [
    "#Import Packages and Read in CSV\n",
    "import pandas as pd\n",
    "import numpy as np\n",
    "from sklearn.linear_model import LinearRegression, LogisticRegression\n",
    "\n",
    "data12 = pd.read_csv(\"./2001-12.csv\")"
   ]
  },
  {
   "cell_type": "code",
   "execution_count": 2,
   "metadata": {},
   "outputs": [
    {
     "data": {
      "text/html": [
       "<div>\n",
       "<style scoped>\n",
       "    .dataframe tbody tr th:only-of-type {\n",
       "        vertical-align: middle;\n",
       "    }\n",
       "\n",
       "    .dataframe tbody tr th {\n",
       "        vertical-align: top;\n",
       "    }\n",
       "\n",
       "    .dataframe thead th {\n",
       "        text-align: right;\n",
       "    }\n",
       "</style>\n",
       "<table border=\"1\" class=\"dataframe\">\n",
       "  <thead>\n",
       "    <tr style=\"text-align: right;\">\n",
       "      <th></th>\n",
       "      <th>Unnamed: 0</th>\n",
       "      <th>call_sign</th>\n",
       "      <th>ID</th>\n",
       "      <th>coef</th>\n",
       "      <th>d/n</th>\n",
       "      <th>max_speed</th>\n",
       "      <th>max_dir</th>\n",
       "      <th>avg_speed</th>\n",
       "      <th>avg_dir</th>\n",
       "      <th>month</th>\n",
       "    </tr>\n",
       "  </thead>\n",
       "  <tbody>\n",
       "    <tr>\n",
       "      <th>0</th>\n",
       "      <td>107</td>\n",
       "      <td>14737KABE</td>\n",
       "      <td>ABE2001120101480648</td>\n",
       "      <td>0.146</td>\n",
       "      <td>N</td>\n",
       "      <td>211.0</td>\n",
       "      <td>7.0</td>\n",
       "      <td>198.0</td>\n",
       "      <td>8.0</td>\n",
       "      <td>12</td>\n",
       "    </tr>\n",
       "    <tr>\n",
       "      <th>1</th>\n",
       "      <td>243</td>\n",
       "      <td>14737KABE</td>\n",
       "      <td>ABE2001120104040904</td>\n",
       "      <td>0.481</td>\n",
       "      <td>N</td>\n",
       "      <td>202.0</td>\n",
       "      <td>3.0</td>\n",
       "      <td>198.0</td>\n",
       "      <td>3.0</td>\n",
       "      <td>12</td>\n",
       "    </tr>\n",
       "    <tr>\n",
       "      <th>2</th>\n",
       "      <td>244</td>\n",
       "      <td>14737KABE</td>\n",
       "      <td>ABE2001120104050905</td>\n",
       "      <td>0.478</td>\n",
       "      <td>N</td>\n",
       "      <td>199.0</td>\n",
       "      <td>3.0</td>\n",
       "      <td>197.0</td>\n",
       "      <td>3.0</td>\n",
       "      <td>12</td>\n",
       "    </tr>\n",
       "    <tr>\n",
       "      <th>3</th>\n",
       "      <td>245</td>\n",
       "      <td>14737KABE</td>\n",
       "      <td>ABE2001120104060906</td>\n",
       "      <td>0.630</td>\n",
       "      <td>N</td>\n",
       "      <td>197.0</td>\n",
       "      <td>3.0</td>\n",
       "      <td>196.0</td>\n",
       "      <td>3.0</td>\n",
       "      <td>12</td>\n",
       "    </tr>\n",
       "    <tr>\n",
       "      <th>4</th>\n",
       "      <td>246</td>\n",
       "      <td>14737KABE</td>\n",
       "      <td>ABE2001120104070907</td>\n",
       "      <td>0.983</td>\n",
       "      <td>N</td>\n",
       "      <td>197.0</td>\n",
       "      <td>3.0</td>\n",
       "      <td>197.0</td>\n",
       "      <td>3.0</td>\n",
       "      <td>12</td>\n",
       "    </tr>\n",
       "    <tr>\n",
       "      <th>...</th>\n",
       "      <td>...</td>\n",
       "      <td>...</td>\n",
       "      <td>...</td>\n",
       "      <td>...</td>\n",
       "      <td>...</td>\n",
       "      <td>...</td>\n",
       "      <td>...</td>\n",
       "      <td>...</td>\n",
       "      <td>...</td>\n",
       "      <td>...</td>\n",
       "    </tr>\n",
       "    <tr>\n",
       "      <th>2263</th>\n",
       "      <td>34740</td>\n",
       "      <td>14737KABE</td>\n",
       "      <td>ABE2001122903120812</td>\n",
       "      <td>0.071</td>\n",
       "      <td>N</td>\n",
       "      <td>201.0</td>\n",
       "      <td>1.0</td>\n",
       "      <td>196.0</td>\n",
       "      <td>1.0</td>\n",
       "      <td>12</td>\n",
       "    </tr>\n",
       "    <tr>\n",
       "      <th>2264</th>\n",
       "      <td>34742</td>\n",
       "      <td>14737KABE</td>\n",
       "      <td>ABE2001122903140814</td>\n",
       "      <td>0.076</td>\n",
       "      <td>N</td>\n",
       "      <td>199.0</td>\n",
       "      <td>2.0</td>\n",
       "      <td>198.0</td>\n",
       "      <td>2.0</td>\n",
       "      <td>12</td>\n",
       "    </tr>\n",
       "    <tr>\n",
       "      <th>2265</th>\n",
       "      <td>34743</td>\n",
       "      <td>14737KABE</td>\n",
       "      <td>ABE2001122903150815</td>\n",
       "      <td>0.076</td>\n",
       "      <td>N</td>\n",
       "      <td>197.0</td>\n",
       "      <td>2.0</td>\n",
       "      <td>196.0</td>\n",
       "      <td>2.0</td>\n",
       "      <td>12</td>\n",
       "    </tr>\n",
       "    <tr>\n",
       "      <th>2266</th>\n",
       "      <td>34794</td>\n",
       "      <td>14737KABE</td>\n",
       "      <td>ABE2001122904060906</td>\n",
       "      <td>0.084</td>\n",
       "      <td>N</td>\n",
       "      <td>211.0</td>\n",
       "      <td>3.0</td>\n",
       "      <td>199.0</td>\n",
       "      <td>3.0</td>\n",
       "      <td>12</td>\n",
       "    </tr>\n",
       "    <tr>\n",
       "      <th>2267</th>\n",
       "      <td>34795</td>\n",
       "      <td>14737KABE</td>\n",
       "      <td>ABE2001122904070907</td>\n",
       "      <td>0.085</td>\n",
       "      <td>N</td>\n",
       "      <td>203.0</td>\n",
       "      <td>3.0</td>\n",
       "      <td>197.0</td>\n",
       "      <td>3.0</td>\n",
       "      <td>12</td>\n",
       "    </tr>\n",
       "  </tbody>\n",
       "</table>\n",
       "<p>2268 rows × 10 columns</p>\n",
       "</div>"
      ],
      "text/plain": [
       "      Unnamed: 0  call_sign                   ID   coef d/n  max_speed  \\\n",
       "0            107  14737KABE  ABE2001120101480648  0.146   N      211.0   \n",
       "1            243  14737KABE  ABE2001120104040904  0.481   N      202.0   \n",
       "2            244  14737KABE  ABE2001120104050905  0.478   N      199.0   \n",
       "3            245  14737KABE  ABE2001120104060906  0.630   N      197.0   \n",
       "4            246  14737KABE  ABE2001120104070907  0.983   N      197.0   \n",
       "...          ...        ...                  ...    ...  ..        ...   \n",
       "2263       34740  14737KABE  ABE2001122903120812  0.071   N      201.0   \n",
       "2264       34742  14737KABE  ABE2001122903140814  0.076   N      199.0   \n",
       "2265       34743  14737KABE  ABE2001122903150815  0.076   N      197.0   \n",
       "2266       34794  14737KABE  ABE2001122904060906  0.084   N      211.0   \n",
       "2267       34795  14737KABE  ABE2001122904070907  0.085   N      203.0   \n",
       "\n",
       "      max_dir  avg_speed  avg_dir  month  \n",
       "0         7.0      198.0      8.0     12  \n",
       "1         3.0      198.0      3.0     12  \n",
       "2         3.0      197.0      3.0     12  \n",
       "3         3.0      196.0      3.0     12  \n",
       "4         3.0      197.0      3.0     12  \n",
       "...       ...        ...      ...    ...  \n",
       "2263      1.0      196.0      1.0     12  \n",
       "2264      2.0      198.0      2.0     12  \n",
       "2265      2.0      196.0      2.0     12  \n",
       "2266      3.0      199.0      3.0     12  \n",
       "2267      3.0      197.0      3.0     12  \n",
       "\n",
       "[2268 rows x 10 columns]"
      ]
     },
     "execution_count": 2,
     "metadata": {},
     "output_type": "execute_result"
    }
   ],
   "source": [
    "#View DataFrame for the month of December 2001\n",
    "data12"
   ]
  },
  {
   "cell_type": "code",
   "execution_count": 3,
   "metadata": {},
   "outputs": [],
   "source": [
    "#Fill in Missing Values with Linear Regression Imputation\n",
    "def regression_imputation(df, impute_column, X_columns, missingness_column, regression = 'linear'):\n",
    "    \n",
    "    if regression == 'linear':\n",
    "        model = LinearRegression()\n",
    "    elif regression == 'logistic':\n",
    "        model = LogisticRegression()\n",
    "    \n",
    "    model.fit(df[X_columns], df[impute_column])\n",
    "    \n",
    "    regression_impute = [df.loc[i,'avg_speed'] if df.loc[i,'avg_speed'] == 0\n",
    "                         else model.predict(pd.DataFrame(df.loc[i,['coef', 'max_speed', 'max_dir',\"avg_dir\",\"month\"]]).T)[0] \n",
    "                         for i in range(df.shape[0])]\n",
    "    \n",
    "    return regression_impute"
   ]
  },
  {
   "cell_type": "code",
   "execution_count": 4,
   "metadata": {},
   "outputs": [],
   "source": [
    "data12['avg_speed_regression_imputed'] = regression_imputation(data12,'avg_speed', ['coef', 'max_speed', 'max_dir',\"avg_dir\",\"month\"],'avg_speed')"
   ]
  },
  {
   "cell_type": "code",
   "execution_count": 5,
   "metadata": {},
   "outputs": [],
   "source": [
    "#We want to convert our datatypes from Objects to Floats/Integers.\n",
    "data12['avg_speed'] = pd.to_numeric(data12['avg_speed'])\n",
    "data12['month'] = pd.to_numeric(data12['month'],errors='coerce')\n",
    "data12['coef'] = pd.to_numeric(data12['coef'],errors='coerce')\n",
    "data12['max_speed'] = pd.to_numeric(data12['max_speed'],errors='coerce')\n",
    "data12['max_dir'] = pd.to_numeric(data12['max_dir'],errors='coerce')\n",
    "data12['avg_dir'] = pd.to_numeric(data12['avg_dir'],errors='coerce')\n",
    "data12['avg_speed_regression_imputed'] = pd.to_numeric(data12['avg_speed_regression_imputed'],errors='coerce')"
   ]
  },
  {
   "cell_type": "code",
   "execution_count": 6,
   "metadata": {},
   "outputs": [],
   "source": [
    "#We only want certain columns that contain our values of interest in the final Dataframe.\n",
    "data12 = data12[[\"coef\",\"max_speed\",\"max_dir\",\"avg_speed\",\"avg_dir\",\"month\",\"avg_speed_regression_imputed\"]]"
   ]
  },
  {
   "cell_type": "code",
   "execution_count": 7,
   "metadata": {},
   "outputs": [
    {
     "name": "stderr",
     "output_type": "stream",
     "text": [
      "\n",
      "Bad key \"text.kerning_factor\" on line 4 in\n",
      "/anaconda3/lib/python3.7/site-packages/matplotlib/mpl-data/stylelib/_classic_test_patch.mplstyle.\n",
      "You probably need to get an updated matplotlibrc file from\n",
      "http://github.com/matplotlib/matplotlib/blob/master/matplotlibrc.template\n",
      "or from the matplotlib source distribution\n",
      "/anaconda3/lib/python3.7/site-packages/ipykernel_launcher.py:24: MatplotlibDeprecationWarning: \n",
      "The 'normed' kwarg was deprecated in Matplotlib 2.1 and will be removed in 3.1. Use 'density' instead.\n"
     ]
    },
    {
     "data": {
      "image/png": "[encoded data removed]",
      "text/plain": [
       "<Figure size 432x288 with 1 Axes>"
      ]
     },
     "metadata": {
      "needs_background": "light"
     },
     "output_type": "display_data"
    }
   ],
   "source": [
    "#Since the ARIMA model assumed our mean if normally distributed, we want to see if our mean is normally distributed.\n",
    "from scipy import stats\n",
    "import matplotlib.pyplot as plt\n",
    "\n",
    "#input for pseudo data\n",
    "N = 10000\n",
    "Kappa_in = 1.8\n",
    "Lambda_in = 10\n",
    "a_in = 1\n",
    "loc_in = 0 \n",
    "\n",
    "#Generate data from given input\n",
    "data = stats.exponweib.rvs(a=a_in,c=Kappa_in, loc=loc_in, scale=Lambda_in, size = N)\n",
    "\n",
    "#The a and loc are fixed in the fit since it is standard to assume they are known\n",
    "a_out, Kappa_out, loc_out, Lambda_out = stats.exponweib.fit(data12, f0=a_in,floc=loc_in)\n",
    "\n",
    "#Plot\n",
    "bins = range(51)\n",
    "fig = plt.figure() \n",
    "ax = fig.add_subplot(1, 1, 1)\n",
    "plt.title(\"Weibull Distribution for Mean\")\n",
    "ax.plot(bins, stats.exponweib.pdf(bins, a=a_out,c=Kappa_out,loc=loc_out,scale = Lambda_out))\n",
    "ax.hist(data, bins = bins , normed=True, alpha=0.5)\n",
    "ax.annotate(\"Shape: $k = %.2f$ \\n Scale: $\\lambda = %.2f$\"%(Kappa_out,Lambda_out), xy=(0.7, 0.85), xycoords=ax.transAxes)\n",
    "plt.show()"
   ]
  },
  {
   "cell_type": "markdown",
   "metadata": {},
   "source": [
    "#####Our mean is not normally distributed and is skewed to the right. See reference(3) below for article on how to use the Weibull distribution to transform our data to become normal so that the ARIMA assumption of normality is satisfied."
   ]
  },
  {
   "cell_type": "code",
   "execution_count": 8,
   "metadata": {},
   "outputs": [
    {
     "name": "stderr",
     "output_type": "stream",
     "text": [
      "/anaconda3/lib/python3.7/site-packages/ipykernel_launcher.py:3: SettingWithCopyWarning: \n",
      "A value is trying to be set on a copy of a slice from a DataFrame.\n",
      "Try using .loc[row_indexer,col_indexer] = value instead\n",
      "\n",
      "See the caveats in the documentation: https://pandas.pydata.org/pandas-docs/stable/user_guide/indexing.html#returning-a-view-versus-a-copy\n",
      "  This is separate from the ipykernel package so we can avoid doing imports until\n"
     ]
    }
   ],
   "source": [
    "#Since our means are not normally distributed, we want to apply a Weibull distribution transformation to make our data Gaussian/ normal.\n",
    "\n",
    "data12[\"avg_speed_imputed_transform\"] = np.sqrt(np.sqrt(data12[\"avg_speed_regression_imputed\"]))"
   ]
  },
  {
   "cell_type": "code",
   "execution_count": 9,
   "metadata": {},
   "outputs": [],
   "source": [
    "mask1 = data12['avg_speed_imputed_transform']>0"
   ]
  },
  {
   "cell_type": "code",
   "execution_count": 10,
   "metadata": {},
   "outputs": [],
   "source": [
    "data12= data12[mask1]"
   ]
  },
  {
   "cell_type": "code",
   "execution_count": 11,
   "metadata": {},
   "outputs": [
    {
     "data": {
      "text/html": [
       "<div>\n",
       "<style scoped>\n",
       "    .dataframe tbody tr th:only-of-type {\n",
       "        vertical-align: middle;\n",
       "    }\n",
       "\n",
       "    .dataframe tbody tr th {\n",
       "        vertical-align: top;\n",
       "    }\n",
       "\n",
       "    .dataframe thead th {\n",
       "        text-align: right;\n",
       "    }\n",
       "</style>\n",
       "<table border=\"1\" class=\"dataframe\">\n",
       "  <thead>\n",
       "    <tr style=\"text-align: right;\">\n",
       "      <th></th>\n",
       "      <th>coef</th>\n",
       "      <th>max_speed</th>\n",
       "      <th>max_dir</th>\n",
       "      <th>avg_speed</th>\n",
       "      <th>avg_dir</th>\n",
       "      <th>month</th>\n",
       "      <th>avg_speed_regression_imputed</th>\n",
       "      <th>avg_speed_imputed_transform</th>\n",
       "    </tr>\n",
       "  </thead>\n",
       "  <tbody>\n",
       "    <tr>\n",
       "      <th>0</th>\n",
       "      <td>0.146</td>\n",
       "      <td>211.0</td>\n",
       "      <td>7.0</td>\n",
       "      <td>198.0</td>\n",
       "      <td>8.0</td>\n",
       "      <td>12</td>\n",
       "      <td>200.108448</td>\n",
       "      <td>3.761113</td>\n",
       "    </tr>\n",
       "    <tr>\n",
       "      <th>1</th>\n",
       "      <td>0.481</td>\n",
       "      <td>202.0</td>\n",
       "      <td>3.0</td>\n",
       "      <td>198.0</td>\n",
       "      <td>3.0</td>\n",
       "      <td>12</td>\n",
       "      <td>188.698452</td>\n",
       "      <td>3.706313</td>\n",
       "    </tr>\n",
       "    <tr>\n",
       "      <th>2</th>\n",
       "      <td>0.478</td>\n",
       "      <td>199.0</td>\n",
       "      <td>3.0</td>\n",
       "      <td>197.0</td>\n",
       "      <td>3.0</td>\n",
       "      <td>12</td>\n",
       "      <td>186.432626</td>\n",
       "      <td>3.695136</td>\n",
       "    </tr>\n",
       "    <tr>\n",
       "      <th>3</th>\n",
       "      <td>0.630</td>\n",
       "      <td>197.0</td>\n",
       "      <td>3.0</td>\n",
       "      <td>196.0</td>\n",
       "      <td>3.0</td>\n",
       "      <td>12</td>\n",
       "      <td>184.985096</td>\n",
       "      <td>3.687943</td>\n",
       "    </tr>\n",
       "    <tr>\n",
       "      <th>4</th>\n",
       "      <td>0.983</td>\n",
       "      <td>197.0</td>\n",
       "      <td>3.0</td>\n",
       "      <td>197.0</td>\n",
       "      <td>3.0</td>\n",
       "      <td>12</td>\n",
       "      <td>185.129551</td>\n",
       "      <td>3.688663</td>\n",
       "    </tr>\n",
       "  </tbody>\n",
       "</table>\n",
       "</div>"
      ],
      "text/plain": [
       "    coef  max_speed  max_dir  avg_speed  avg_dir  month  \\\n",
       "0  0.146      211.0      7.0      198.0      8.0     12   \n",
       "1  0.481      202.0      3.0      198.0      3.0     12   \n",
       "2  0.478      199.0      3.0      197.0      3.0     12   \n",
       "3  0.630      197.0      3.0      196.0      3.0     12   \n",
       "4  0.983      197.0      3.0      197.0      3.0     12   \n",
       "\n",
       "   avg_speed_regression_imputed  avg_speed_imputed_transform  \n",
       "0                    200.108448                     3.761113  \n",
       "1                    188.698452                     3.706313  \n",
       "2                    186.432626                     3.695136  \n",
       "3                    184.985096                     3.687943  \n",
       "4                    185.129551                     3.688663  "
      ]
     },
     "execution_count": 11,
     "metadata": {},
     "output_type": "execute_result"
    }
   ],
   "source": [
    "#View the completed DataFrame for December 2001\n",
    "data12.head()"
   ]
  },
  {
   "cell_type": "code",
   "execution_count": 12,
   "metadata": {},
   "outputs": [
    {
     "data": {
      "image/png": "[encoded data removed]",
      "text/plain": [
       "<Figure size 432x288 with 1 Axes>"
      ]
     },
     "metadata": {
      "needs_background": "light"
     },
     "output_type": "display_data"
    }
   ],
   "source": [
    "#View plot of Average Speed(Transformed) versus Time\n",
    "plt.plot(data12['avg_speed_imputed_transform'].index, data12['avg_speed_imputed_transform'])\n",
    "plt.title(\"Average Speed (Transformed) VS. Time\");\n",
    "plt.xlabel(\"minutes\");\n",
    "plt.ylabel(\"wind speed, mph\");"
   ]
  },
  {
   "cell_type": "markdown",
   "metadata": {},
   "source": [
    "### Introduction to ARIMA Modeling:\n",
    "######1) ARIMA (Autoregressive Integrated Moving Average) model is a time series forecasting technique that predicts the future values of its own data based on its past history. The model appreciates data that has a consistent pattern over time (1). It has three parameters that define it: p, d, and q. The first parameter, d, is the \"differencing\" parameter which we use to make our time series stationary. The second parameter, p, is the \"autoregressive\" peice which is responsible for modeling the long-term trends in our data but does not handle sudden, random changes or \"shocks.\" The last parameter, q, is the \"moving average\" peice which does handle sudden, random shocks in our model by using previous error inputs to our model to predict the next value based on deviations from previous predictions. The ARIMA model is a mixture of the \"autoregressive\" or AR component and the \"moving average\" or MA component where it predicts future values based on past data but can also account for \"new information\" or sudden shocks to the model (2)."
   ]
  },
  {
   "cell_type": "code",
   "execution_count": 13,
   "metadata": {},
   "outputs": [],
   "source": [
    "#Create the ARIMA Model\n",
    "# Apply the first and second differencing (d =1 and d = 2) to \n",
    "data12['first_diff'] = data12['avg_speed_imputed_transform'].diff(1)\n",
    "data12['second_diff'] = data12['avg_speed_imputed_transform'].diff(1).diff(1)"
   ]
  },
  {
   "cell_type": "code",
   "execution_count": 14,
   "metadata": {},
   "outputs": [
    {
     "name": "stderr",
     "output_type": "stream",
     "text": [
      "/anaconda3/lib/python3.7/site-packages/statsmodels/tools/_testing.py:19: FutureWarning: pandas.util.testing is deprecated. Use the functions in the public API at pandas.testing instead.\n",
      "  import pandas.util.testing as tm\n"
     ]
    }
   ],
   "source": [
    "#Use the Augmented Dickey-Fuller test to determine the value of d\n",
    "from statsmodels.tsa.stattools import adfuller\n",
    "def interpret_dftest(dftest):\n",
    "    dfoutput = pd.Series(dftest[0:2], index=['Test Statistic','p-value'])\n",
    "    return dfoutput"
   ]
  },
  {
   "cell_type": "code",
   "execution_count": 15,
   "metadata": {},
   "outputs": [
    {
     "data": {
      "text/plain": [
       "Test Statistic   -6.745710e+00\n",
       "p-value           3.038926e-09\n",
       "dtype: float64"
      ]
     },
     "execution_count": 15,
     "metadata": {},
     "output_type": "execute_result"
    }
   ],
   "source": [
    "interpret_dftest(adfuller(data12['avg_speed_imputed_transform']))"
   ]
  },
  {
   "cell_type": "code",
   "execution_count": 16,
   "metadata": {},
   "outputs": [
    {
     "data": {
      "text/plain": [
       "Test Statistic   -1.385164e+01\n",
       "p-value           6.987390e-26\n",
       "dtype: float64"
      ]
     },
     "execution_count": 16,
     "metadata": {},
     "output_type": "execute_result"
    }
   ],
   "source": [
    "interpret_dftest(adfuller(data12['first_diff'].dropna()))"
   ]
  },
  {
   "cell_type": "code",
   "execution_count": 17,
   "metadata": {},
   "outputs": [
    {
     "data": {
      "text/plain": [
       "Test Statistic   -1.738517e+01\n",
       "p-value           5.046345e-30\n",
       "dtype: float64"
      ]
     },
     "execution_count": 17,
     "metadata": {},
     "output_type": "execute_result"
    }
   ],
   "source": [
    "interpret_dftest(adfuller(data12['second_diff'].dropna()))"
   ]
  },
  {
   "cell_type": "markdown",
   "metadata": {},
   "source": [
    "#####Since the p-value for the target value is less than 5% without differencing, we can reject the null hypothesis that our data is not stationary and select d = 0."
   ]
  },
  {
   "cell_type": "code",
   "execution_count": 18,
   "metadata": {},
   "outputs": [
    {
     "data": {
      "image/png": "[encoded data removed]",
      "text/plain": [
       "<Figure size 432x288 with 1 Axes>"
      ]
     },
     "metadata": {
      "needs_background": "light"
     },
     "output_type": "display_data"
    }
   ],
   "source": [
    "# Generate ACF and PACF plot to determine the value of p.\n",
    "from statsmodels.graphics.tsaplots import plot_acf, plot_pacf\n",
    "plot_acf(data12['avg_speed_imputed_transform'], lags = 20);"
   ]
  },
  {
   "cell_type": "code",
   "execution_count": 19,
   "metadata": {},
   "outputs": [
    {
     "data": {
      "image/png": "[encoded data removed]",
      "text/plain": [
       "<Figure size 432x288 with 1 Axes>"
      ]
     },
     "metadata": {
      "needs_background": "light"
     },
     "output_type": "display_data"
    }
   ],
   "source": [
    "plot_pacf(data12['avg_speed_imputed_transform'], lags = 20);"
   ]
  },
  {
   "cell_type": "code",
   "execution_count": 20,
   "metadata": {},
   "outputs": [],
   "source": [
    "#Train-Test Split\n",
    "from sklearn.model_selection import train_test_split\n",
    "X_train, X_test, y_train, y_test = train_test_split(data12[['coef', 'max_speed', 'max_dir',\"avg_dir\",\"month\"]],\n",
    "                                                    data12['avg_speed_imputed_transform'],\n",
    "                                                    test_size = 0.2,shuffle = False)"
   ]
  },
  {
   "cell_type": "code",
   "execution_count": 21,
   "metadata": {},
   "outputs": [],
   "source": [
    "#Create the ARIMA model.\n",
    "from statsmodels.tsa.arima_model import ARIMA\n",
    "model = ARIMA(endog = y_train.astype(float).dropna(), \n",
    "              order = (0,0,1))"
   ]
  },
  {
   "cell_type": "code",
   "execution_count": 22,
   "metadata": {},
   "outputs": [],
   "source": [
    "arima_0_1_0 = model.fit()"
   ]
  },
  {
   "cell_type": "code",
   "execution_count": 23,
   "metadata": {},
   "outputs": [],
   "source": [
    "# Generate predictions.\n",
    "start_index =X_train.index.min()+1\n",
    "end_index = X_test.index.max()\n",
    "\n",
    "preds = model.predict(params= arima_0_1_0.params, start=start_index, end=end_index)"
   ]
  },
  {
   "cell_type": "code",
   "execution_count": 24,
   "metadata": {},
   "outputs": [],
   "source": [
    "data12['ARIMA_pred'] = pd.DataFrame(preds)"
   ]
  },
  {
   "cell_type": "code",
   "execution_count": 25,
   "metadata": {},
   "outputs": [
    {
     "data": {
      "text/html": [
       "<div>\n",
       "<style scoped>\n",
       "    .dataframe tbody tr th:only-of-type {\n",
       "        vertical-align: middle;\n",
       "    }\n",
       "\n",
       "    .dataframe tbody tr th {\n",
       "        vertical-align: top;\n",
       "    }\n",
       "\n",
       "    .dataframe thead th {\n",
       "        text-align: right;\n",
       "    }\n",
       "</style>\n",
       "<table border=\"1\" class=\"dataframe\">\n",
       "  <thead>\n",
       "    <tr style=\"text-align: right;\">\n",
       "      <th></th>\n",
       "      <th>coef</th>\n",
       "      <th>max_speed</th>\n",
       "      <th>max_dir</th>\n",
       "      <th>avg_speed</th>\n",
       "      <th>avg_dir</th>\n",
       "      <th>month</th>\n",
       "      <th>avg_speed_regression_imputed</th>\n",
       "      <th>avg_speed_imputed_transform</th>\n",
       "      <th>first_diff</th>\n",
       "      <th>second_diff</th>\n",
       "      <th>ARIMA_pred</th>\n",
       "    </tr>\n",
       "  </thead>\n",
       "  <tbody>\n",
       "    <tr>\n",
       "      <th>0</th>\n",
       "      <td>0.146</td>\n",
       "      <td>211.0</td>\n",
       "      <td>7.0</td>\n",
       "      <td>198.0</td>\n",
       "      <td>8.0</td>\n",
       "      <td>12</td>\n",
       "      <td>200.108448</td>\n",
       "      <td>3.761113</td>\n",
       "      <td>NaN</td>\n",
       "      <td>NaN</td>\n",
       "      <td>3.633953</td>\n",
       "    </tr>\n",
       "    <tr>\n",
       "      <th>1</th>\n",
       "      <td>0.481</td>\n",
       "      <td>202.0</td>\n",
       "      <td>3.0</td>\n",
       "      <td>198.0</td>\n",
       "      <td>3.0</td>\n",
       "      <td>12</td>\n",
       "      <td>188.698452</td>\n",
       "      <td>3.706313</td>\n",
       "      <td>-0.054800</td>\n",
       "      <td>NaN</td>\n",
       "      <td>3.567978</td>\n",
       "    </tr>\n",
       "    <tr>\n",
       "      <th>2</th>\n",
       "      <td>0.478</td>\n",
       "      <td>199.0</td>\n",
       "      <td>3.0</td>\n",
       "      <td>197.0</td>\n",
       "      <td>3.0</td>\n",
       "      <td>12</td>\n",
       "      <td>186.432626</td>\n",
       "      <td>3.695136</td>\n",
       "      <td>-0.011176</td>\n",
       "      <td>0.043623</td>\n",
       "      <td>3.605626</td>\n",
       "    </tr>\n",
       "    <tr>\n",
       "      <th>3</th>\n",
       "      <td>0.630</td>\n",
       "      <td>197.0</td>\n",
       "      <td>3.0</td>\n",
       "      <td>196.0</td>\n",
       "      <td>3.0</td>\n",
       "      <td>12</td>\n",
       "      <td>184.985096</td>\n",
       "      <td>3.687943</td>\n",
       "      <td>-0.007194</td>\n",
       "      <td>0.003983</td>\n",
       "      <td>3.578984</td>\n",
       "    </tr>\n",
       "    <tr>\n",
       "      <th>4</th>\n",
       "      <td>0.983</td>\n",
       "      <td>197.0</td>\n",
       "      <td>3.0</td>\n",
       "      <td>197.0</td>\n",
       "      <td>3.0</td>\n",
       "      <td>12</td>\n",
       "      <td>185.129551</td>\n",
       "      <td>3.688663</td>\n",
       "      <td>0.000720</td>\n",
       "      <td>0.007913</td>\n",
       "      <td>3.597500</td>\n",
       "    </tr>\n",
       "  </tbody>\n",
       "</table>\n",
       "</div>"
      ],
      "text/plain": [
       "    coef  max_speed  max_dir  avg_speed  avg_dir  month  \\\n",
       "0  0.146      211.0      7.0      198.0      8.0     12   \n",
       "1  0.481      202.0      3.0      198.0      3.0     12   \n",
       "2  0.478      199.0      3.0      197.0      3.0     12   \n",
       "3  0.630      197.0      3.0      196.0      3.0     12   \n",
       "4  0.983      197.0      3.0      197.0      3.0     12   \n",
       "\n",
       "   avg_speed_regression_imputed  avg_speed_imputed_transform  first_diff  \\\n",
       "0                    200.108448                     3.761113         NaN   \n",
       "1                    188.698452                     3.706313   -0.054800   \n",
       "2                    186.432626                     3.695136   -0.011176   \n",
       "3                    184.985096                     3.687943   -0.007194   \n",
       "4                    185.129551                     3.688663    0.000720   \n",
       "\n",
       "   second_diff  ARIMA_pred  \n",
       "0          NaN    3.633953  \n",
       "1          NaN    3.567978  \n",
       "2     0.043623    3.605626  \n",
       "3     0.003983    3.578984  \n",
       "4     0.007913    3.597500  "
      ]
     },
     "execution_count": 25,
     "metadata": {},
     "output_type": "execute_result"
    }
   ],
   "source": [
    "data12.head()"
   ]
  },
  {
   "cell_type": "code",
   "execution_count": 26,
   "metadata": {},
   "outputs": [],
   "source": [
    "#Keep only positive values\n",
    "neg = data12[data12.ARIMA_pred < 0]\n",
    "data12 = data12.drop(neg.index)"
   ]
  },
  {
   "cell_type": "code",
   "execution_count": 27,
   "metadata": {},
   "outputs": [],
   "source": [
    "#Fill NAs with zeros\n",
    "data12 = data12.fillna(0)"
   ]
  },
  {
   "cell_type": "code",
   "execution_count": 28,
   "metadata": {},
   "outputs": [
    {
     "data": {
      "image/png": "[encoded data removed]",
      "text/plain": [
       "<Figure size 576x360 with 1 Axes>"
      ]
     },
     "metadata": {
      "needs_background": "light"
     },
     "output_type": "display_data"
    }
   ],
   "source": [
    "# Plot data.\n",
    "plt.figure(figsize=(8,5))\n",
    "# Plot training data.\n",
    "plt.plot(y_train.index, pd.DataFrame(y_train), color = 'blue')\n",
    "# Plot testing data.\n",
    "plt.plot(y_test.index, pd.DataFrame(y_test), color = 'orange')\n",
    "# Plot predicted test values.\n",
    "plt.plot(data12['ARIMA_pred'].index, data12['ARIMA_pred'] , color = 'green')\n",
    "# Set label.\n",
    "plt.title(label = 'Wind Speed ARIMA Forecast, December 2001');\n",
    "plt.xlabel(\"minutes\");\n",
    "plt.ylabel(\"wind speed, mph\");\n"
   ]
  },
  {
   "cell_type": "markdown",
   "metadata": {},
   "source": [
    "#####Results: The ARIMA model has a low MSE and MSE and is good at predicting the average wind speeds for the powerplant. This may be due to the fact that we transformed the data into a stationary pattern, making it easier for the ARIMA to discern a pattern based on past history and predict consistently for the future wind speeds."
   ]
  },
  {
   "cell_type": "code",
   "execution_count": 29,
   "metadata": {},
   "outputs": [
    {
     "name": "stdout",
     "output_type": "stream",
     "text": [
      "MSE is: 0.015549383441389068\n"
     ]
    }
   ],
   "source": [
    "from sklearn.metrics import mean_squared_error\n",
    "mse = mean_squared_error(data12['avg_speed_imputed_transform'],data12['ARIMA_pred'])\n",
    "print(\"MSE is:\", mse)"
   ]
  },
  {
   "cell_type": "code",
   "execution_count": 30,
   "metadata": {},
   "outputs": [
    {
     "name": "stdout",
     "output_type": "stream",
     "text": [
      "RMSE is: 0.12469716693409304\n"
     ]
    }
   ],
   "source": [
    "import math\n",
    "rmse = math.sqrt(mse)\n",
    "print(\"RMSE is:\", rmse)"
   ]
  },
  {
   "cell_type": "code",
   "execution_count": 31,
   "metadata": {},
   "outputs": [
    {
     "data": {
      "text/plain": [
       "3.523245200444747"
      ]
     },
     "execution_count": 31,
     "metadata": {},
     "output_type": "execute_result"
    }
   ],
   "source": [
    "import statistics\n",
    "statistics.mean(data12['avg_speed_imputed_transform'])"
   ]
  },
  {
   "cell_type": "code",
   "execution_count": 32,
   "metadata": {},
   "outputs": [
    {
     "data": {
      "text/plain": [
       "3.5242311070008188"
      ]
     },
     "execution_count": 32,
     "metadata": {},
     "output_type": "execute_result"
    }
   ],
   "source": [
    "statistics.mean(data12['ARIMA_pred'])"
   ]
  },
  {
   "cell_type": "markdown",
   "metadata": {},
   "source": []
  },
  {
   "cell_type": "code",
   "execution_count": null,
   "metadata": {},
   "outputs": [],
   "source": []
  },
  {
   "cell_type": "code",
   "execution_count": null,
   "metadata": {},
   "outputs": [],
   "source": []
  },
  {
   "cell_type": "markdown",
   "metadata": {},
   "source": [
    "### References:\n",
    "######1)Thurinav, Aars, \"What is ARIMA?,\" Quora.com, Sept. 23, 2018, https://www.quora.com/What-is-ARIMA .\n",
    "######2)Nelson, Joseph, \"ARIMA Modeling,\" General Assembly, Data Science Immersive, June 15, 2019.\n",
    "######3)Brown, Barbara G., \"Time Series Models to Simulate and Forecast Wind Speed and Wind Power,\" Journal of Climate and Applied Meteorology, Vol 23, May, 22, 1984."
   ]
  },
  {
   "cell_type": "code",
   "execution_count": null,
   "metadata": {},
   "outputs": [],
   "source": []
  }
 ],
 "metadata": {
  "kernelspec": {
   "display_name": "Python 3",
   "language": "python",
   "name": "python3"
  },
  "language_info": {
   "codemirror_mode": {
    "name": "ipython",
    "version": 3
   },
   "file_extension": ".py",
   "mimetype": "text/x-python",
   "name": "python",
   "nbconvert_exporter": "python",
   "pygments_lexer": "ipython3",
   "version": "3.7.3"
  }
 },
 "nbformat": 4,
 "nbformat_minor": 2
}
