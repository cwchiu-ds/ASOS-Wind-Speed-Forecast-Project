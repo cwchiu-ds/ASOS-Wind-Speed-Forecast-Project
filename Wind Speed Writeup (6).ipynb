{
 "cells": [
  {
   "cell_type": "markdown",
   "metadata": {},
   "source": [
    "####                                                                                                                                                                                            Carol Chiu \n",
    "####                                                                                                                                                                                            April 16, 2020\n",
    "\n",
    "\n",
    "# Wind Speed Time Series Forecasting Report"
   ]
  },
  {
   "cell_type": "markdown",
   "metadata": {},
   "source": [
    "### Objective: \n",
    "######The goal of this project is to accurately and efficiently forecast wind speeds occurring at a powerplant operation in Marmara, Turkey. Marmara is a region of Turkey that is known for her high wind speeds with the average wind speed reaching as fast as 3.3 m/s. As a powerplant operator, I am interested in protecting my special equipment that can only function properly when wind speeds are below 50 mph. I have a protection system installed for my equipment but it takes 5 minutes for the system to fully load and work. Thus, I need an accurate predictive model that I can use to sound an alarm when the wind speed might be greater than 50 mph in the next 5 minutes of the operation. Doing so will save me in damage costs to my powerplant and reduce health hazard and safety hazard costs to my employees, clients, and myself."
   ]
  },
  {
   "cell_type": "markdown",
   "metadata": {},
   "source": [
    "### Source of Data: \n",
    "######Wind speed data is obtain from ASOS censors developed by the "
   ]
  },
  {
   "cell_type": "markdown",
   "metadata": {},
   "source": [
    "### Methods Used:\n",
    "######1) ARIMA Model (one month, univariate model)\n",
    "######2) VARMAX Model (one month, multivariate model)\n",
    "######3) SARIMAX Model (one year, univariate, seasonal model)\n",
    "######4) Hidden Markov Model (one year, multivariate model)\n",
    "######5) Triple Exponential Smoothing Model (one year, univariate, trends, seasonality model)"
   ]
  },
  {
   "cell_type": "markdown",
   "metadata": {},
   "source": [
    "### Exploratory Data Analysis for One Month (December 2001) :"
   ]
  },
  {
   "cell_type": "code",
   "execution_count": 1,
   "metadata": {},
   "outputs": [],
   "source": [
    "#Import Packages and Read in CSV\n",
    "import pandas as pd\n",
    "import numpy as np\n",
    "from sklearn.linear_model import LinearRegression, LogisticRegression\n",
    "\n",
    "data12 = pd.read_csv(\"./2001-12.csv\")"
   ]
  },
  {
   "cell_type": "code",
   "execution_count": 2,
   "metadata": {},
   "outputs": [
    {
     "data": {
      "text/html": [
       "<div>\n",
       "<style scoped>\n",
       "    .dataframe tbody tr th:only-of-type {\n",
       "        vertical-align: middle;\n",
       "    }\n",
       "\n",
       "    .dataframe tbody tr th {\n",
       "        vertical-align: top;\n",
       "    }\n",
       "\n",
       "    .dataframe thead th {\n",
       "        text-align: right;\n",
       "    }\n",
       "</style>\n",
       "<table border=\"1\" class=\"dataframe\">\n",
       "  <thead>\n",
       "    <tr style=\"text-align: right;\">\n",
       "      <th></th>\n",
       "      <th>Unnamed: 0</th>\n",
       "      <th>call_sign</th>\n",
       "      <th>ID</th>\n",
       "      <th>coef</th>\n",
       "      <th>d/n</th>\n",
       "      <th>max_speed</th>\n",
       "      <th>max_dir</th>\n",
       "      <th>avg_speed</th>\n",
       "      <th>avg_dir</th>\n",
       "      <th>month</th>\n",
       "    </tr>\n",
       "  </thead>\n",
       "  <tbody>\n",
       "    <tr>\n",
       "      <th>0</th>\n",
       "      <td>107</td>\n",
       "      <td>14737KABE</td>\n",
       "      <td>ABE2001120101480648</td>\n",
       "      <td>0.146</td>\n",
       "      <td>N</td>\n",
       "      <td>211.0</td>\n",
       "      <td>7.0</td>\n",
       "      <td>198.0</td>\n",
       "      <td>8.0</td>\n",
       "      <td>12</td>\n",
       "    </tr>\n",
       "    <tr>\n",
       "      <th>1</th>\n",
       "      <td>243</td>\n",
       "      <td>14737KABE</td>\n",
       "      <td>ABE2001120104040904</td>\n",
       "      <td>0.481</td>\n",
       "      <td>N</td>\n",
       "      <td>202.0</td>\n",
       "      <td>3.0</td>\n",
       "      <td>198.0</td>\n",
       "      <td>3.0</td>\n",
       "      <td>12</td>\n",
       "    </tr>\n",
       "    <tr>\n",
       "      <th>2</th>\n",
       "      <td>244</td>\n",
       "      <td>14737KABE</td>\n",
       "      <td>ABE2001120104050905</td>\n",
       "      <td>0.478</td>\n",
       "      <td>N</td>\n",
       "      <td>199.0</td>\n",
       "      <td>3.0</td>\n",
       "      <td>197.0</td>\n",
       "      <td>3.0</td>\n",
       "      <td>12</td>\n",
       "    </tr>\n",
       "    <tr>\n",
       "      <th>3</th>\n",
       "      <td>245</td>\n",
       "      <td>14737KABE</td>\n",
       "      <td>ABE2001120104060906</td>\n",
       "      <td>0.630</td>\n",
       "      <td>N</td>\n",
       "      <td>197.0</td>\n",
       "      <td>3.0</td>\n",
       "      <td>196.0</td>\n",
       "      <td>3.0</td>\n",
       "      <td>12</td>\n",
       "    </tr>\n",
       "    <tr>\n",
       "      <th>4</th>\n",
       "      <td>246</td>\n",
       "      <td>14737KABE</td>\n",
       "      <td>ABE2001120104070907</td>\n",
       "      <td>0.983</td>\n",
       "      <td>N</td>\n",
       "      <td>197.0</td>\n",
       "      <td>3.0</td>\n",
       "      <td>197.0</td>\n",
       "      <td>3.0</td>\n",
       "      <td>12</td>\n",
       "    </tr>\n",
       "    <tr>\n",
       "      <th>...</th>\n",
       "      <td>...</td>\n",
       "      <td>...</td>\n",
       "      <td>...</td>\n",
       "      <td>...</td>\n",
       "      <td>...</td>\n",
       "      <td>...</td>\n",
       "      <td>...</td>\n",
       "      <td>...</td>\n",
       "      <td>...</td>\n",
       "      <td>...</td>\n",
       "    </tr>\n",
       "    <tr>\n",
       "      <th>2263</th>\n",
       "      <td>34740</td>\n",
       "      <td>14737KABE</td>\n",
       "      <td>ABE2001122903120812</td>\n",
       "      <td>0.071</td>\n",
       "      <td>N</td>\n",
       "      <td>201.0</td>\n",
       "      <td>1.0</td>\n",
       "      <td>196.0</td>\n",
       "      <td>1.0</td>\n",
       "      <td>12</td>\n",
       "    </tr>\n",
       "    <tr>\n",
       "      <th>2264</th>\n",
       "      <td>34742</td>\n",
       "      <td>14737KABE</td>\n",
       "      <td>ABE2001122903140814</td>\n",
       "      <td>0.076</td>\n",
       "      <td>N</td>\n",
       "      <td>199.0</td>\n",
       "      <td>2.0</td>\n",
       "      <td>198.0</td>\n",
       "      <td>2.0</td>\n",
       "      <td>12</td>\n",
       "    </tr>\n",
       "    <tr>\n",
       "      <th>2265</th>\n",
       "      <td>34743</td>\n",
       "      <td>14737KABE</td>\n",
       "      <td>ABE2001122903150815</td>\n",
       "      <td>0.076</td>\n",
       "      <td>N</td>\n",
       "      <td>197.0</td>\n",
       "      <td>2.0</td>\n",
       "      <td>196.0</td>\n",
       "      <td>2.0</td>\n",
       "      <td>12</td>\n",
       "    </tr>\n",
       "    <tr>\n",
       "      <th>2266</th>\n",
       "      <td>34794</td>\n",
       "      <td>14737KABE</td>\n",
       "      <td>ABE2001122904060906</td>\n",
       "      <td>0.084</td>\n",
       "      <td>N</td>\n",
       "      <td>211.0</td>\n",
       "      <td>3.0</td>\n",
       "      <td>199.0</td>\n",
       "      <td>3.0</td>\n",
       "      <td>12</td>\n",
       "    </tr>\n",
       "    <tr>\n",
       "      <th>2267</th>\n",
       "      <td>34795</td>\n",
       "      <td>14737KABE</td>\n",
       "      <td>ABE2001122904070907</td>\n",
       "      <td>0.085</td>\n",
       "      <td>N</td>\n",
       "      <td>203.0</td>\n",
       "      <td>3.0</td>\n",
       "      <td>197.0</td>\n",
       "      <td>3.0</td>\n",
       "      <td>12</td>\n",
       "    </tr>\n",
       "  </tbody>\n",
       "</table>\n",
       "<p>2268 rows × 10 columns</p>\n",
       "</div>"
      ],
      "text/plain": [
       "      Unnamed: 0  call_sign                   ID   coef d/n  max_speed  \\\n",
       "0            107  14737KABE  ABE2001120101480648  0.146   N      211.0   \n",
       "1            243  14737KABE  ABE2001120104040904  0.481   N      202.0   \n",
       "2            244  14737KABE  ABE2001120104050905  0.478   N      199.0   \n",
       "3            245  14737KABE  ABE2001120104060906  0.630   N      197.0   \n",
       "4            246  14737KABE  ABE2001120104070907  0.983   N      197.0   \n",
       "...          ...        ...                  ...    ...  ..        ...   \n",
       "2263       34740  14737KABE  ABE2001122903120812  0.071   N      201.0   \n",
       "2264       34742  14737KABE  ABE2001122903140814  0.076   N      199.0   \n",
       "2265       34743  14737KABE  ABE2001122903150815  0.076   N      197.0   \n",
       "2266       34794  14737KABE  ABE2001122904060906  0.084   N      211.0   \n",
       "2267       34795  14737KABE  ABE2001122904070907  0.085   N      203.0   \n",
       "\n",
       "      max_dir  avg_speed  avg_dir  month  \n",
       "0         7.0      198.0      8.0     12  \n",
       "1         3.0      198.0      3.0     12  \n",
       "2         3.0      197.0      3.0     12  \n",
       "3         3.0      196.0      3.0     12  \n",
       "4         3.0      197.0      3.0     12  \n",
       "...       ...        ...      ...    ...  \n",
       "2263      1.0      196.0      1.0     12  \n",
       "2264      2.0      198.0      2.0     12  \n",
       "2265      2.0      196.0      2.0     12  \n",
       "2266      3.0      199.0      3.0     12  \n",
       "2267      3.0      197.0      3.0     12  \n",
       "\n",
       "[2268 rows x 10 columns]"
      ]
     },
     "execution_count": 2,
     "metadata": {},
     "output_type": "execute_result"
    }
   ],
   "source": [
    "#View DataFrame for the month of December 2001\n",
    "data12"
   ]
  },
  {
   "cell_type": "code",
   "execution_count": 3,
   "metadata": {},
   "outputs": [],
   "source": [
    "#Fill in Missing Values with Linear Regression Imputation\n",
    "def regression_imputation(df, impute_column, X_columns, missingness_column, regression = 'linear'):\n",
    "    \n",
    "    if regression == 'linear':\n",
    "        model = LinearRegression()\n",
    "    elif regression == 'logistic':\n",
    "        model = LogisticRegression()\n",
    "    \n",
    "    model.fit(df[X_columns], df[impute_column])\n",
    "    \n",
    "    regression_impute = [df.loc[i,'avg_speed'] if df.loc[i,'avg_speed'] == 0\n",
    "                         else model.predict(pd.DataFrame(df.loc[i,['coef', 'max_speed', 'max_dir',\"avg_dir\",\"month\"]]).T)[0] \n",
    "                         for i in range(df.shape[0])]\n",
    "    \n",
    "    return regression_impute"
   ]
  },
  {
   "cell_type": "code",
   "execution_count": 4,
   "metadata": {},
   "outputs": [],
   "source": [
    "data12['avg_speed_regression_imputed'] = regression_imputation(data12,'avg_speed', ['coef', 'max_speed', 'max_dir',\"avg_dir\",\"month\"],'avg_speed')"
   ]
  },
  {
   "cell_type": "code",
   "execution_count": 5,
   "metadata": {},
   "outputs": [],
   "source": [
    "#We want to convert our datatypes from Objects to Floats/Integers.\n",
    "data12['avg_speed'] = pd.to_numeric(data12['avg_speed'])\n",
    "data12['month'] = pd.to_numeric(data12['month'],errors='coerce')\n",
    "data12['coef'] = pd.to_numeric(data12['coef'],errors='coerce')\n",
    "data12['max_speed'] = pd.to_numeric(data12['max_speed'],errors='coerce')\n",
    "data12['max_dir'] = pd.to_numeric(data12['max_dir'],errors='coerce')\n",
    "data12['avg_dir'] = pd.to_numeric(data12['avg_dir'],errors='coerce')\n",
    "data12['avg_speed_regression_imputed'] = pd.to_numeric(data12['avg_speed_regression_imputed'],errors='coerce')"
   ]
  },
  {
   "cell_type": "code",
   "execution_count": 6,
   "metadata": {},
   "outputs": [],
   "source": [
    "#We only want certain columns that contain our values of interest in the final Dataframe.\n",
    "data12 = data12[[\"coef\",\"max_speed\",\"max_dir\",\"avg_speed\",\"avg_dir\",\"month\",\"avg_speed_regression_imputed\"]]"
   ]
  },
  {
   "cell_type": "code",
   "execution_count": 7,
   "metadata": {},
   "outputs": [
    {
     "name": "stderr",
     "output_type": "stream",
     "text": [
      "\n",
      "Bad key \"text.kerning_factor\" on line 4 in\n",
      "/anaconda3/lib/python3.7/site-packages/matplotlib/mpl-data/stylelib/_classic_test_patch.mplstyle.\n",
      "You probably need to get an updated matplotlibrc file from\n",
      "http://github.com/matplotlib/matplotlib/blob/master/matplotlibrc.template\n",
      "or from the matplotlib source distribution\n",
      "/anaconda3/lib/python3.7/site-packages/ipykernel_launcher.py:26: MatplotlibDeprecationWarning: \n",
      "The 'normed' kwarg was deprecated in Matplotlib 2.1 and will be removed in 3.1. Use 'density' instead.\n"
     ]
    },
    {
     "data": {
      "image/png": "[encoded data removed]",
      "text/plain": [
       "<Figure size 432x288 with 1 Axes>"
      ]
     },
     "metadata": {
      "needs_background": "light"
     },
     "output_type": "display_data"
    }
   ],
   "source": [
    "#Since the ARIMA model assumed our mean if normally distributed, we want to see if our mean is normally distributed.\n",
    "from scipy import stats\n",
    "import matplotlib.pyplot as plt\n",
    "\n",
    "#input for pseudo data\n",
    "N = 10000\n",
    "Kappa_in = 1.8\n",
    "Lambda_in = 10\n",
    "a_in = 1\n",
    "loc_in = 0 \n",
    "\n",
    "#Generate data from given input\n",
    "data = stats.exponweib.rvs(a=a_in,c=Kappa_in, loc=loc_in, scale=Lambda_in, size = N)\n",
    "\n",
    "#The a and loc are fixed in the fit since it is standard to assume they are known\n",
    "a_out, Kappa_out, loc_out, Lambda_out = stats.exponweib.fit(data12, f0=a_in,floc=loc_in)\n",
    "\n",
    "#Plot\n",
    "bins = range(51)\n",
    "fig = plt.figure() \n",
    "ax = fig.add_subplot(1, 1, 1)\n",
    "plt.title(\"Weibull Distribution for Mean December 2001\")\n",
    "plt.xlabel(\"index\")\n",
    "plt.ylabel(\"mean wind speeds, mph\")\n",
    "ax.plot(bins, stats.exponweib.pdf(bins, a=a_out,c=Kappa_out,loc=loc_out,scale = Lambda_out))\n",
    "ax.hist(data, bins = bins , normed=True, alpha=0.5)\n",
    "ax.annotate(\"Shape: $k = %.2f$ \\n Scale: $\\lambda = %.2f$\"%(Kappa_out,Lambda_out), xy=(0.7, 0.85), xycoords=ax.transAxes)\n",
    "plt.show()"
   ]
  },
  {
   "cell_type": "markdown",
   "metadata": {},
   "source": [
    "#####Our mean is not normally distributed and is skewed to the right. See reference(3) below for article on how to use the Weibull distribution to transform our data to become normal so that the ARIMA assumption of normality is satisfied."
   ]
  },
  {
   "cell_type": "code",
   "execution_count": 8,
   "metadata": {},
   "outputs": [
    {
     "name": "stderr",
     "output_type": "stream",
     "text": [
      "/anaconda3/lib/python3.7/site-packages/ipykernel_launcher.py:3: SettingWithCopyWarning: \n",
      "A value is trying to be set on a copy of a slice from a DataFrame.\n",
      "Try using .loc[row_indexer,col_indexer] = value instead\n",
      "\n",
      "See the caveats in the documentation: https://pandas.pydata.org/pandas-docs/stable/user_guide/indexing.html#returning-a-view-versus-a-copy\n",
      "  This is separate from the ipykernel package so we can avoid doing imports until\n"
     ]
    }
   ],
   "source": [
    "#Since our means are not normally distributed, we want to apply a Weibull distribution transformation to make our data Gaussian/ normal.\n",
    "\n",
    "data12[\"avg_speed_imputed_transform\"] = np.sqrt(np.sqrt(data12[\"avg_speed_regression_imputed\"]))"
   ]
  },
  {
   "cell_type": "code",
   "execution_count": 9,
   "metadata": {},
   "outputs": [],
   "source": [
    "mask1 = data12['avg_speed_imputed_transform']>0"
   ]
  },
  {
   "cell_type": "code",
   "execution_count": 10,
   "metadata": {},
   "outputs": [],
   "source": [
    "data12= data12[mask1]"
   ]
  },
  {
   "cell_type": "code",
   "execution_count": 11,
   "metadata": {},
   "outputs": [
    {
     "data": {
      "text/html": [
       "<div>\n",
       "<style scoped>\n",
       "    .dataframe tbody tr th:only-of-type {\n",
       "        vertical-align: middle;\n",
       "    }\n",
       "\n",
       "    .dataframe tbody tr th {\n",
       "        vertical-align: top;\n",
       "    }\n",
       "\n",
       "    .dataframe thead th {\n",
       "        text-align: right;\n",
       "    }\n",
       "</style>\n",
       "<table border=\"1\" class=\"dataframe\">\n",
       "  <thead>\n",
       "    <tr style=\"text-align: right;\">\n",
       "      <th></th>\n",
       "      <th>coef</th>\n",
       "      <th>max_speed</th>\n",
       "      <th>max_dir</th>\n",
       "      <th>avg_speed</th>\n",
       "      <th>avg_dir</th>\n",
       "      <th>month</th>\n",
       "      <th>avg_speed_regression_imputed</th>\n",
       "      <th>avg_speed_imputed_transform</th>\n",
       "    </tr>\n",
       "  </thead>\n",
       "  <tbody>\n",
       "    <tr>\n",
       "      <th>0</th>\n",
       "      <td>0.146</td>\n",
       "      <td>211.0</td>\n",
       "      <td>7.0</td>\n",
       "      <td>198.0</td>\n",
       "      <td>8.0</td>\n",
       "      <td>12</td>\n",
       "      <td>200.108448</td>\n",
       "      <td>3.761113</td>\n",
       "    </tr>\n",
       "    <tr>\n",
       "      <th>1</th>\n",
       "      <td>0.481</td>\n",
       "      <td>202.0</td>\n",
       "      <td>3.0</td>\n",
       "      <td>198.0</td>\n",
       "      <td>3.0</td>\n",
       "      <td>12</td>\n",
       "      <td>188.698452</td>\n",
       "      <td>3.706313</td>\n",
       "    </tr>\n",
       "    <tr>\n",
       "      <th>2</th>\n",
       "      <td>0.478</td>\n",
       "      <td>199.0</td>\n",
       "      <td>3.0</td>\n",
       "      <td>197.0</td>\n",
       "      <td>3.0</td>\n",
       "      <td>12</td>\n",
       "      <td>186.432626</td>\n",
       "      <td>3.695136</td>\n",
       "    </tr>\n",
       "    <tr>\n",
       "      <th>3</th>\n",
       "      <td>0.630</td>\n",
       "      <td>197.0</td>\n",
       "      <td>3.0</td>\n",
       "      <td>196.0</td>\n",
       "      <td>3.0</td>\n",
       "      <td>12</td>\n",
       "      <td>184.985096</td>\n",
       "      <td>3.687943</td>\n",
       "    </tr>\n",
       "    <tr>\n",
       "      <th>4</th>\n",
       "      <td>0.983</td>\n",
       "      <td>197.0</td>\n",
       "      <td>3.0</td>\n",
       "      <td>197.0</td>\n",
       "      <td>3.0</td>\n",
       "      <td>12</td>\n",
       "      <td>185.129551</td>\n",
       "      <td>3.688663</td>\n",
       "    </tr>\n",
       "  </tbody>\n",
       "</table>\n",
       "</div>"
      ],
      "text/plain": [
       "    coef  max_speed  max_dir  avg_speed  avg_dir  month  \\\n",
       "0  0.146      211.0      7.0      198.0      8.0     12   \n",
       "1  0.481      202.0      3.0      198.0      3.0     12   \n",
       "2  0.478      199.0      3.0      197.0      3.0     12   \n",
       "3  0.630      197.0      3.0      196.0      3.0     12   \n",
       "4  0.983      197.0      3.0      197.0      3.0     12   \n",
       "\n",
       "   avg_speed_regression_imputed  avg_speed_imputed_transform  \n",
       "0                    200.108448                     3.761113  \n",
       "1                    188.698452                     3.706313  \n",
       "2                    186.432626                     3.695136  \n",
       "3                    184.985096                     3.687943  \n",
       "4                    185.129551                     3.688663  "
      ]
     },
     "execution_count": 11,
     "metadata": {},
     "output_type": "execute_result"
    }
   ],
   "source": [
    "#View the completed DataFrame for December 2001\n",
    "data12.head()"
   ]
  },
  {
   "cell_type": "code",
   "execution_count": 12,
   "metadata": {},
   "outputs": [
    {
     "data": {
      "image/png": "[encoded data removed]",
      "text/plain": [
       "<Figure size 432x288 with 1 Axes>"
      ]
     },
     "metadata": {
      "needs_background": "light"
     },
     "output_type": "display_data"
    }
   ],
   "source": [
    "#View plot of Average Speed(Transformed) versus Time\n",
    "plt.plot(data12['avg_speed_imputed_transform'].index, data12['avg_speed_imputed_transform'])\n",
    "plt.title(\"Average Speed (Transformed), December 2001\");\n",
    "plt.xlabel(\"index\");\n",
    "plt.ylabel(\"wind speed, mph\");"
   ]
  },
  {
   "cell_type": "markdown",
   "metadata": {},
   "source": [
    "### Introduction to ARIMA Modeling on One Month (December 2001):\n",
    "######1) ARIMA (Autoregressive Integrated Moving Average) model is a time series forecasting technique that predicts the future values of its own data based on its past history. The model appreciates data that has a consistent pattern over time (1). It has three parameters that define it: p, d, and q. The first parameter, d, is the \"differencing\" parameter which we use to make our time series stationary. The second parameter, p, is the \"autoregressive\" peice which is responsible for modeling the long-term trends in our data but does not handle sudden, random changes or \"shocks.\" The last parameter, q, is the \"moving average\" peice which does handle sudden, random shocks in our model by using previous error inputs to our model to predict the next value based on deviations from previous predictions. The ARIMA model is a mixture of the \"autoregressive\" or AR component and the \"moving average\" or MA component where it predicts future values based on past data but can also account for \"new information\" or sudden shocks to the model (2)."
   ]
  },
  {
   "cell_type": "code",
   "execution_count": 13,
   "metadata": {},
   "outputs": [],
   "source": [
    "#Create the ARIMA Model\n",
    "# Apply the first and second differencing (d =1 and d = 2) to \n",
    "data12['first_diff'] = data12['avg_speed_imputed_transform'].diff(1)\n",
    "data12['second_diff'] = data12['avg_speed_imputed_transform'].diff(1).diff(1)"
   ]
  },
  {
   "cell_type": "code",
   "execution_count": 14,
   "metadata": {},
   "outputs": [
    {
     "name": "stderr",
     "output_type": "stream",
     "text": [
      "/anaconda3/lib/python3.7/site-packages/statsmodels/tools/_testing.py:19: FutureWarning: pandas.util.testing is deprecated. Use the functions in the public API at pandas.testing instead.\n",
      "  import pandas.util.testing as tm\n"
     ]
    }
   ],
   "source": [
    "#Use the Augmented Dickey-Fuller test to determine the value of d\n",
    "from statsmodels.tsa.stattools import adfuller\n",
    "def interpret_dftest(dftest):\n",
    "    dfoutput = pd.Series(dftest[0:2], index=['Test Statistic','p-value'])\n",
    "    return dfoutput"
   ]
  },
  {
   "cell_type": "code",
   "execution_count": 15,
   "metadata": {},
   "outputs": [
    {
     "data": {
      "text/plain": [
       "Test Statistic   -6.745710e+00\n",
       "p-value           3.038926e-09\n",
       "dtype: float64"
      ]
     },
     "execution_count": 15,
     "metadata": {},
     "output_type": "execute_result"
    }
   ],
   "source": [
    "interpret_dftest(adfuller(data12['avg_speed_imputed_transform']))"
   ]
  },
  {
   "cell_type": "code",
   "execution_count": 16,
   "metadata": {},
   "outputs": [
    {
     "data": {
      "text/plain": [
       "Test Statistic   -1.385164e+01\n",
       "p-value           6.987390e-26\n",
       "dtype: float64"
      ]
     },
     "execution_count": 16,
     "metadata": {},
     "output_type": "execute_result"
    }
   ],
   "source": [
    "interpret_dftest(adfuller(data12['first_diff'].dropna()))"
   ]
  },
  {
   "cell_type": "code",
   "execution_count": 17,
   "metadata": {},
   "outputs": [
    {
     "data": {
      "text/plain": [
       "Test Statistic   -1.738517e+01\n",
       "p-value           5.046345e-30\n",
       "dtype: float64"
      ]
     },
     "execution_count": 17,
     "metadata": {},
     "output_type": "execute_result"
    }
   ],
   "source": [
    "interpret_dftest(adfuller(data12['second_diff'].dropna()))"
   ]
  },
  {
   "cell_type": "markdown",
   "metadata": {},
   "source": [
    "#####Since the p-value for the target value is less than 5% without differencing, we can reject the null hypothesis that our data is not stationary and select d = 0."
   ]
  },
  {
   "cell_type": "code",
   "execution_count": 18,
   "metadata": {},
   "outputs": [
    {
     "data": {
      "image/png": "[encoded data removed]",
      "text/plain": [
       "<Figure size 432x288 with 1 Axes>"
      ]
     },
     "metadata": {
      "needs_background": "light"
     },
     "output_type": "display_data"
    }
   ],
   "source": [
    "# Generate ACF and PACF plot to determine the value of p.\n",
    "from statsmodels.graphics.tsaplots import plot_acf, plot_pacf\n",
    "plot_acf(data12['avg_speed_imputed_transform'], lags = 20);"
   ]
  },
  {
   "cell_type": "code",
   "execution_count": 19,
   "metadata": {},
   "outputs": [
    {
     "data": {
      "image/png": "[encoded data removed]",
      "text/plain": [
       "<Figure size 432x288 with 1 Axes>"
      ]
     },
     "metadata": {
      "needs_background": "light"
     },
     "output_type": "display_data"
    }
   ],
   "source": [
    "plot_pacf(data12['avg_speed_imputed_transform'], lags = 20);"
   ]
  },
  {
   "cell_type": "code",
   "execution_count": 20,
   "metadata": {},
   "outputs": [],
   "source": [
    "#Train-Test Split\n",
    "from sklearn.model_selection import train_test_split\n",
    "X_train, X_test, y_train, y_test = train_test_split(data12[['coef', 'max_speed', 'max_dir',\"avg_dir\",\"month\"]],\n",
    "                                                    data12['avg_speed_imputed_transform'],\n",
    "                                                    test_size = 0.2,shuffle = False)"
   ]
  },
  {
   "cell_type": "code",
   "execution_count": 21,
   "metadata": {},
   "outputs": [],
   "source": [
    "#Create the ARIMA model.\n",
    "from statsmodels.tsa.arima_model import ARIMA\n",
    "model = ARIMA(endog = y_train.astype(float).dropna(), \n",
    "              order = (0,0,1))"
   ]
  },
  {
   "cell_type": "code",
   "execution_count": 22,
   "metadata": {},
   "outputs": [],
   "source": [
    "arima_0_1_0 = model.fit()"
   ]
  },
  {
   "cell_type": "code",
   "execution_count": 23,
   "metadata": {},
   "outputs": [],
   "source": [
    "# Generate predictions.\n",
    "start_index =X_train.index.min()+1\n",
    "end_index = X_test.index.max()\n",
    "\n",
    "preds = model.predict(params= arima_0_1_0.params, start=start_index, end=end_index)"
   ]
  },
  {
   "cell_type": "code",
   "execution_count": 24,
   "metadata": {},
   "outputs": [],
   "source": [
    "data12['ARIMA_pred'] = pd.DataFrame(preds)"
   ]
  },
  {
   "cell_type": "code",
   "execution_count": 25,
   "metadata": {},
   "outputs": [
    {
     "data": {
      "text/html": [
       "<div>\n",
       "<style scoped>\n",
       "    .dataframe tbody tr th:only-of-type {\n",
       "        vertical-align: middle;\n",
       "    }\n",
       "\n",
       "    .dataframe tbody tr th {\n",
       "        vertical-align: top;\n",
       "    }\n",
       "\n",
       "    .dataframe thead th {\n",
       "        text-align: right;\n",
       "    }\n",
       "</style>\n",
       "<table border=\"1\" class=\"dataframe\">\n",
       "  <thead>\n",
       "    <tr style=\"text-align: right;\">\n",
       "      <th></th>\n",
       "      <th>coef</th>\n",
       "      <th>max_speed</th>\n",
       "      <th>max_dir</th>\n",
       "      <th>avg_speed</th>\n",
       "      <th>avg_dir</th>\n",
       "      <th>month</th>\n",
       "      <th>avg_speed_regression_imputed</th>\n",
       "      <th>avg_speed_imputed_transform</th>\n",
       "      <th>first_diff</th>\n",
       "      <th>second_diff</th>\n",
       "      <th>ARIMA_pred</th>\n",
       "    </tr>\n",
       "  </thead>\n",
       "  <tbody>\n",
       "    <tr>\n",
       "      <th>0</th>\n",
       "      <td>0.146</td>\n",
       "      <td>211.0</td>\n",
       "      <td>7.0</td>\n",
       "      <td>198.0</td>\n",
       "      <td>8.0</td>\n",
       "      <td>12</td>\n",
       "      <td>200.108448</td>\n",
       "      <td>3.761113</td>\n",
       "      <td>NaN</td>\n",
       "      <td>NaN</td>\n",
       "      <td>3.633953</td>\n",
       "    </tr>\n",
       "    <tr>\n",
       "      <th>1</th>\n",
       "      <td>0.481</td>\n",
       "      <td>202.0</td>\n",
       "      <td>3.0</td>\n",
       "      <td>198.0</td>\n",
       "      <td>3.0</td>\n",
       "      <td>12</td>\n",
       "      <td>188.698452</td>\n",
       "      <td>3.706313</td>\n",
       "      <td>-0.054800</td>\n",
       "      <td>NaN</td>\n",
       "      <td>3.567978</td>\n",
       "    </tr>\n",
       "    <tr>\n",
       "      <th>2</th>\n",
       "      <td>0.478</td>\n",
       "      <td>199.0</td>\n",
       "      <td>3.0</td>\n",
       "      <td>197.0</td>\n",
       "      <td>3.0</td>\n",
       "      <td>12</td>\n",
       "      <td>186.432626</td>\n",
       "      <td>3.695136</td>\n",
       "      <td>-0.011176</td>\n",
       "      <td>0.043623</td>\n",
       "      <td>3.605626</td>\n",
       "    </tr>\n",
       "    <tr>\n",
       "      <th>3</th>\n",
       "      <td>0.630</td>\n",
       "      <td>197.0</td>\n",
       "      <td>3.0</td>\n",
       "      <td>196.0</td>\n",
       "      <td>3.0</td>\n",
       "      <td>12</td>\n",
       "      <td>184.985096</td>\n",
       "      <td>3.687943</td>\n",
       "      <td>-0.007194</td>\n",
       "      <td>0.003983</td>\n",
       "      <td>3.578984</td>\n",
       "    </tr>\n",
       "    <tr>\n",
       "      <th>4</th>\n",
       "      <td>0.983</td>\n",
       "      <td>197.0</td>\n",
       "      <td>3.0</td>\n",
       "      <td>197.0</td>\n",
       "      <td>3.0</td>\n",
       "      <td>12</td>\n",
       "      <td>185.129551</td>\n",
       "      <td>3.688663</td>\n",
       "      <td>0.000720</td>\n",
       "      <td>0.007913</td>\n",
       "      <td>3.597500</td>\n",
       "    </tr>\n",
       "  </tbody>\n",
       "</table>\n",
       "</div>"
      ],
      "text/plain": [
       "    coef  max_speed  max_dir  avg_speed  avg_dir  month  \\\n",
       "0  0.146      211.0      7.0      198.0      8.0     12   \n",
       "1  0.481      202.0      3.0      198.0      3.0     12   \n",
       "2  0.478      199.0      3.0      197.0      3.0     12   \n",
       "3  0.630      197.0      3.0      196.0      3.0     12   \n",
       "4  0.983      197.0      3.0      197.0      3.0     12   \n",
       "\n",
       "   avg_speed_regression_imputed  avg_speed_imputed_transform  first_diff  \\\n",
       "0                    200.108448                     3.761113         NaN   \n",
       "1                    188.698452                     3.706313   -0.054800   \n",
       "2                    186.432626                     3.695136   -0.011176   \n",
       "3                    184.985096                     3.687943   -0.007194   \n",
       "4                    185.129551                     3.688663    0.000720   \n",
       "\n",
       "   second_diff  ARIMA_pred  \n",
       "0          NaN    3.633953  \n",
       "1          NaN    3.567978  \n",
       "2     0.043623    3.605626  \n",
       "3     0.003983    3.578984  \n",
       "4     0.007913    3.597500  "
      ]
     },
     "execution_count": 25,
     "metadata": {},
     "output_type": "execute_result"
    }
   ],
   "source": [
    "data12.head()"
   ]
  },
  {
   "cell_type": "code",
   "execution_count": 26,
   "metadata": {},
   "outputs": [],
   "source": [
    "#Keep only positive values\n",
    "neg = data12[data12.ARIMA_pred < 0]\n",
    "data12 = data12.drop(neg.index)"
   ]
  },
  {
   "cell_type": "code",
   "execution_count": 27,
   "metadata": {},
   "outputs": [],
   "source": [
    "#Fill NAs with zeros\n",
    "data12 = data12.fillna(0)"
   ]
  },
  {
   "cell_type": "code",
   "execution_count": 28,
   "metadata": {},
   "outputs": [
    {
     "data": {
      "image/png": "[encoded data removed]",
      "text/plain": [
       "<Figure size 576x360 with 1 Axes>"
      ]
     },
     "metadata": {
      "needs_background": "light"
     },
     "output_type": "display_data"
    }
   ],
   "source": [
    "# Plot data.\n",
    "plt.figure(figsize=(8,5))\n",
    "# Plot training data.\n",
    "plt.plot(y_train.index, pd.DataFrame(y_train), color = 'blue')\n",
    "# Plot testing data.\n",
    "plt.plot(y_test.index, pd.DataFrame(y_test), color = 'orange')\n",
    "# Plot predicted test values.\n",
    "plt.plot(data12['ARIMA_pred'].index, data12['ARIMA_pred'] , color = 'green')\n",
    "# Set label.\n",
    "plt.title(label = 'Wind Speed ARIMA Forecast, December 2001');\n",
    "plt.xlabel(\"index\");\n",
    "plt.ylabel(\"wind speed, mph\");\n"
   ]
  },
  {
   "cell_type": "markdown",
   "metadata": {},
   "source": [
    "#####Results: The ARIMA model has a low MSE and MSE and is good at predicting the average wind speeds for the powerplant. This may be due to the fact that we transformed the data into a stationary pattern, making it easier for the ARIMA to discern a pattern based on past history and predict consistently for the future wind speeds."
   ]
  },
  {
   "cell_type": "code",
   "execution_count": 29,
   "metadata": {},
   "outputs": [
    {
     "name": "stdout",
     "output_type": "stream",
     "text": [
      "ARIMA MSE is: 0.015549383441389068\n",
      "ARIMA RMSE is: 0.12469716693409304\n",
      "Avg Wind Speed is: 3.523245200444747\n",
      "Avg Wind Speed Prediction is: 3.5242311070008188\n"
     ]
    }
   ],
   "source": [
    "#Obtain scoring metrics for our model/\n",
    "from sklearn.metrics import mean_squared_error\n",
    "import statistics\n",
    "import math\n",
    "mse = mean_squared_error(data12['avg_speed_imputed_transform'],data12['ARIMA_pred'])\n",
    "print(\"ARIMA MSE is:\", mse)\n",
    "rmse = math.sqrt(mse)\n",
    "print(\"ARIMA RMSE is:\", rmse)\n",
    "mean1 = statistics.mean(data12['avg_speed_imputed_transform'])\n",
    "print(\"Avg Wind Speed is:\", mean1 )\n",
    "mean2 = statistics.mean(data12['ARIMA_pred'])\n",
    "print(\"Avg Wind Speed Prediction is:\", mean2 )"
   ]
  },
  {
   "cell_type": "code",
   "execution_count": null,
   "metadata": {},
   "outputs": [],
   "source": []
  },
  {
   "cell_type": "markdown",
   "metadata": {},
   "source": []
  },
  {
   "cell_type": "markdown",
   "metadata": {},
   "source": [
    "### Intro to VARMAX Modeling on One Month (December 2001):"
   ]
  },
  {
   "cell_type": "markdown",
   "metadata": {},
   "source": [
    "######VARMAX(Vector Autoregressive Moving Average) model, a multivariate model, adds to the ARIMA model, a univariate model, in two ways. It works with multiple response variables by forming a vector-based time series model. Als, it works with exogenous variables or variables that are independent of each other in the system. Thus, the model captures the multi-faceted relationship between the many variables in the system as well as the relationship between the independent and dependent variables (5)."
   ]
  },
  {
   "cell_type": "code",
   "execution_count": 30,
   "metadata": {},
   "outputs": [
    {
     "data": {
      "text/html": [
       "<div>\n",
       "<style scoped>\n",
       "    .dataframe tbody tr th:only-of-type {\n",
       "        vertical-align: middle;\n",
       "    }\n",
       "\n",
       "    .dataframe tbody tr th {\n",
       "        vertical-align: top;\n",
       "    }\n",
       "\n",
       "    .dataframe thead th {\n",
       "        text-align: right;\n",
       "    }\n",
       "</style>\n",
       "<table border=\"1\" class=\"dataframe\">\n",
       "  <thead>\n",
       "    <tr style=\"text-align: right;\">\n",
       "      <th></th>\n",
       "      <th>coef</th>\n",
       "      <th>max_speed</th>\n",
       "      <th>max_dir</th>\n",
       "      <th>avg_speed</th>\n",
       "      <th>avg_dir</th>\n",
       "      <th>month</th>\n",
       "      <th>avg_speed_regression_imputed</th>\n",
       "      <th>avg_speed_imputed_transform</th>\n",
       "      <th>first_diff</th>\n",
       "      <th>second_diff</th>\n",
       "      <th>ARIMA_pred</th>\n",
       "    </tr>\n",
       "  </thead>\n",
       "  <tbody>\n",
       "    <tr>\n",
       "      <th>0</th>\n",
       "      <td>0.146</td>\n",
       "      <td>211.0</td>\n",
       "      <td>7.0</td>\n",
       "      <td>198.0</td>\n",
       "      <td>8.0</td>\n",
       "      <td>12</td>\n",
       "      <td>200.108448</td>\n",
       "      <td>3.761113</td>\n",
       "      <td>0.000000</td>\n",
       "      <td>0.000000</td>\n",
       "      <td>3.633953</td>\n",
       "    </tr>\n",
       "    <tr>\n",
       "      <th>1</th>\n",
       "      <td>0.481</td>\n",
       "      <td>202.0</td>\n",
       "      <td>3.0</td>\n",
       "      <td>198.0</td>\n",
       "      <td>3.0</td>\n",
       "      <td>12</td>\n",
       "      <td>188.698452</td>\n",
       "      <td>3.706313</td>\n",
       "      <td>-0.054800</td>\n",
       "      <td>0.000000</td>\n",
       "      <td>3.567978</td>\n",
       "    </tr>\n",
       "    <tr>\n",
       "      <th>2</th>\n",
       "      <td>0.478</td>\n",
       "      <td>199.0</td>\n",
       "      <td>3.0</td>\n",
       "      <td>197.0</td>\n",
       "      <td>3.0</td>\n",
       "      <td>12</td>\n",
       "      <td>186.432626</td>\n",
       "      <td>3.695136</td>\n",
       "      <td>-0.011176</td>\n",
       "      <td>0.043623</td>\n",
       "      <td>3.605626</td>\n",
       "    </tr>\n",
       "    <tr>\n",
       "      <th>3</th>\n",
       "      <td>0.630</td>\n",
       "      <td>197.0</td>\n",
       "      <td>3.0</td>\n",
       "      <td>196.0</td>\n",
       "      <td>3.0</td>\n",
       "      <td>12</td>\n",
       "      <td>184.985096</td>\n",
       "      <td>3.687943</td>\n",
       "      <td>-0.007194</td>\n",
       "      <td>0.003983</td>\n",
       "      <td>3.578984</td>\n",
       "    </tr>\n",
       "    <tr>\n",
       "      <th>4</th>\n",
       "      <td>0.983</td>\n",
       "      <td>197.0</td>\n",
       "      <td>3.0</td>\n",
       "      <td>197.0</td>\n",
       "      <td>3.0</td>\n",
       "      <td>12</td>\n",
       "      <td>185.129551</td>\n",
       "      <td>3.688663</td>\n",
       "      <td>0.000720</td>\n",
       "      <td>0.007913</td>\n",
       "      <td>3.597500</td>\n",
       "    </tr>\n",
       "  </tbody>\n",
       "</table>\n",
       "</div>"
      ],
      "text/plain": [
       "    coef  max_speed  max_dir  avg_speed  avg_dir  month  \\\n",
       "0  0.146      211.0      7.0      198.0      8.0     12   \n",
       "1  0.481      202.0      3.0      198.0      3.0     12   \n",
       "2  0.478      199.0      3.0      197.0      3.0     12   \n",
       "3  0.630      197.0      3.0      196.0      3.0     12   \n",
       "4  0.983      197.0      3.0      197.0      3.0     12   \n",
       "\n",
       "   avg_speed_regression_imputed  avg_speed_imputed_transform  first_diff  \\\n",
       "0                    200.108448                     3.761113    0.000000   \n",
       "1                    188.698452                     3.706313   -0.054800   \n",
       "2                    186.432626                     3.695136   -0.011176   \n",
       "3                    184.985096                     3.687943   -0.007194   \n",
       "4                    185.129551                     3.688663    0.000720   \n",
       "\n",
       "   second_diff  ARIMA_pred  \n",
       "0     0.000000    3.633953  \n",
       "1     0.000000    3.567978  \n",
       "2     0.043623    3.605626  \n",
       "3     0.003983    3.578984  \n",
       "4     0.007913    3.597500  "
      ]
     },
     "execution_count": 30,
     "metadata": {},
     "output_type": "execute_result"
    }
   ],
   "source": [
    "data12.head()"
   ]
  },
  {
   "cell_type": "code",
   "execution_count": 31,
   "metadata": {},
   "outputs": [],
   "source": [
    "X_train, X_test, y_train, y_test = train_test_split(data12[['coef', 'max_speed', 'max_dir',\"avg_dir\",\"month\", 'avg_speed_imputed_transform']],\n",
    "                                                    data12['avg_speed_imputed_transform'],\n",
    "                                                    test_size = 0.2,shuffle = False)"
   ]
  },
  {
   "cell_type": "code",
   "execution_count": 32,
   "metadata": {},
   "outputs": [
    {
     "name": "stderr",
     "output_type": "stream",
     "text": [
      "/anaconda3/lib/python3.7/site-packages/statsmodels/base/model.py:512: ConvergenceWarning: Maximum Likelihood optimization failed to converge. Check mle_retvals\n",
      "  \"Check mle_retvals\", ConvergenceWarning)\n"
     ]
    },
    {
     "name": "stdout",
     "output_type": "stream",
     "text": [
      "                                                            Statespace Model Results                                                           \n",
      "===============================================================================================================================================\n",
      "Dep. Variable:     ['coef', 'max_speed', 'max_dir', 'avg_dir', 'month', 'avg_speed_imputed_transform']   No. Observations:                 1814\n",
      "Model:                                                                                          VMA(1)   Log Likelihood       -433894473695.960\n",
      "                                                                                           + intercept   AIC                   867788947487.920\n",
      "Date:                                                                                 Fri, 17 Apr 2020   BIC                   867788947752.078\n",
      "Time:                                                                                         15:13:29   HQIC                  867788947585.393\n",
      "Sample:                                                                                              0                                         \n",
      "                                                                                                - 1814                                         \n",
      "Covariance Type:                                                                                   opg                                         \n",
      "==============================================================================================================================================================\n",
      "Ljung-Box (Q):          7091.91, 12549.18, 18332.15, 19247.49, 27.94, 1531.23   Jarque-Bera (JB):   1882173.99, 67.12, 98.36, 85.59, 232866861.68, 54764261.32\n",
      "Prob(Q):                                   0.00, 0.00, 0.00, 0.00, 0.92, 0.00   Prob(JB):                                   0.00, 0.00, 0.00, 0.00, 0.00, 0.00\n",
      "Heteroskedasticity (H):                    0.19, 0.44, 0.71, 0.78, 1.00, 0.08   Skew:                                   11.01, 0.27, 0.56, 0.44, -41.64, 24.23\n",
      "Prob(H) (two-sided):                       0.00, 0.00, 0.00, 0.00, 0.98, 0.00   Kurtosis:                            159.26, 3.78, 3.25, 2.40, 1756.28, 852.83\n",
      "                                      Results for equation coef                                      \n",
      "=====================================================================================================\n",
      "                                        coef    std err          z      P>|z|      [0.025      0.975]\n",
      "-----------------------------------------------------------------------------------------------------\n",
      "intercept                             0.2375   1.32e-26    1.8e+25      0.000       0.238       0.238\n",
      "L1.e(coef)                           -0.0260   2.09e-27  -1.24e+25      0.000      -0.026      -0.026\n",
      "L1.e(max_speed)                      -0.0003        nan        nan        nan         nan         nan\n",
      "L1.e(max_dir)                        -0.0102        nan        nan        nan         nan         nan\n",
      "L1.e(avg_dir)                        -0.0001        nan        nan        nan         nan         nan\n",
      "L1.e(month)                        4.888e-24        nan        nan        nan         nan         nan\n",
      "L1.e(avg_speed_imputed_transform)     0.0224        nan        nan        nan         nan         nan\n",
      "                                    Results for equation max_speed                                   \n",
      "=====================================================================================================\n",
      "                                        coef    std err          z      P>|z|      [0.025      0.975]\n",
      "-----------------------------------------------------------------------------------------------------\n",
      "intercept                           158.6367        nan        nan        nan         nan         nan\n",
      "L1.e(coef)                           -0.5679        nan        nan        nan         nan         nan\n",
      "L1.e(max_speed)                      -0.0226   4.92e-25   -4.6e+22      0.000      -0.023      -0.023\n",
      "L1.e(max_dir)                         1.2005        nan        nan        nan         nan         nan\n",
      "L1.e(avg_dir)                        -0.0921   4.85e-27   -1.9e+25      0.000      -0.092      -0.092\n",
      "L1.e(month)                       -5.472e-22   1.39e-42  -3.93e+20      0.000   -5.47e-22   -5.47e-22\n",
      "L1.e(avg_speed_imputed_transform)   -11.0196        nan        nan        nan         nan         nan\n",
      "                                     Results for equation max_dir                                    \n",
      "=====================================================================================================\n",
      "                                        coef    std err          z      P>|z|      [0.025      0.975]\n",
      "-----------------------------------------------------------------------------------------------------\n",
      "intercept                             3.2530   9.85e-27    3.3e+26      0.000       3.253       3.253\n",
      "L1.e(coef)                           -0.0274        nan        nan        nan         nan         nan\n",
      "L1.e(max_speed)                       0.0004   8.47e-24   5.13e+19      0.000       0.000       0.000\n",
      "L1.e(max_dir)                        -0.0481        nan        nan        nan         nan         nan\n",
      "L1.e(avg_dir)                         0.0017   1.85e-25   9.32e+21      0.000       0.002       0.002\n",
      "L1.e(month)                        2.258e-23   1.79e-41   1.26e+18      0.000    2.26e-23    2.26e-23\n",
      "L1.e(avg_speed_imputed_transform)    -0.1879        nan        nan        nan         nan         nan\n",
      "                                     Results for equation avg_dir                                    \n",
      "=====================================================================================================\n",
      "                                        coef    std err          z      P>|z|      [0.025      0.975]\n",
      "-----------------------------------------------------------------------------------------------------\n",
      "intercept                             3.7734        nan        nan        nan         nan         nan\n",
      "L1.e(coef)                           -0.1347        nan        nan        nan         nan         nan\n",
      "L1.e(max_speed)                      -0.0054   7.97e-24  -6.79e+20      0.000      -0.005      -0.005\n",
      "L1.e(max_dir)                        -0.1222        nan        nan        nan         nan         nan\n",
      "L1.e(avg_dir)                         0.0024   1.84e-25   1.28e+22      0.000       0.002       0.002\n",
      "L1.e(month)                        5.743e-23   1.02e-41   5.61e+18      0.000    5.74e-23    5.74e-23\n",
      "L1.e(avg_speed_imputed_transform)     1.3978        nan        nan        nan         nan         nan\n",
      "                                      Results for equation month                                     \n",
      "=====================================================================================================\n",
      "                                        coef    std err          z      P>|z|      [0.025      0.975]\n",
      "-----------------------------------------------------------------------------------------------------\n",
      "intercept                            12.0000   9.86e-24   1.22e+24      0.000      12.000      12.000\n",
      "L1.e(coef)                          1.34e-19   2.88e-21     46.453      0.000    1.28e-19     1.4e-19\n",
      "L1.e(max_speed)                   -6.593e-19    5.6e-17     -0.012      0.991    -1.1e-16    1.09e-16\n",
      "L1.e(max_dir)                      1.358e-17   5.33e-23   2.55e+05      0.000    1.36e-17    1.36e-17\n",
      "L1.e(avg_dir)                     -1.283e-17   2.93e-19    -43.851      0.000   -1.34e-17   -1.23e-17\n",
      "L1.e(month)                       -3.197e-39        nan        nan        nan         nan         nan\n",
      "L1.e(avg_speed_imputed_transform)  1.558e-16   1.18e-18    132.388      0.000    1.53e-16    1.58e-16\n",
      "                           Results for equation avg_speed_imputed_transform                          \n",
      "=====================================================================================================\n",
      "                                        coef    std err          z      P>|z|      [0.025      0.975]\n",
      "-----------------------------------------------------------------------------------------------------\n",
      "intercept                             3.5258        nan        nan        nan         nan         nan\n",
      "L1.e(coef)                           -0.0019   1.36e-25  -1.38e+22      0.000      -0.002      -0.002\n",
      "L1.e(max_speed)                    5.214e-05   1.17e-22   4.45e+17      0.000    5.21e-05    5.21e-05\n",
      "L1.e(max_dir)                         0.0047        nan        nan        nan         nan         nan\n",
      "L1.e(avg_dir)                        -0.0003   2.87e-24  -1.21e+20      0.000      -0.000      -0.000\n",
      "L1.e(month)                        -2.16e-24   2.57e-40  -8.42e+15      0.000   -2.16e-24   -2.16e-24\n",
      "L1.e(avg_speed_imputed_transform)    -0.0746        nan        nan        nan         nan         nan\n",
      "                                       Error covariance matrix                                        \n",
      "======================================================================================================\n",
      "                                         coef    std err          z      P>|z|      [0.025      0.975]\n",
      "------------------------------------------------------------------------------------------------------\n",
      "sigma2.coef                            0.0975   8.16e-27    1.2e+25      0.000       0.098       0.098\n",
      "sigma2.max_speed                     346.6418   5.57e-29   6.22e+30      0.000     346.642     346.642\n",
      "sigma2.max_dir                         0.6041   8.91e-27   6.78e+25      0.000       0.604       0.604\n",
      "sigma2.avg_dir                         1.1525   4.74e-27   2.43e+26      0.000       1.152       1.152\n",
      "sigma2.month                        8.418e-35   2.14e-25   3.94e-10      1.000   -4.19e-25    4.19e-25\n",
      "sigma2.avg_speed_imputed_transform     0.0056    3.5e-24   1.59e+21      0.000       0.006       0.006\n",
      "======================================================================================================\n",
      "\n",
      "Warnings:\n",
      "[1] Covariance matrix calculated using the outer product of gradients (complex-step).\n",
      "[2] Covariance matrix is singular or near-singular, with condition number 1.02e+54. Standard errors may be unstable.\n"
     ]
    },
    {
     "name": "stderr",
     "output_type": "stream",
     "text": [
      "/anaconda3/lib/python3.7/site-packages/statsmodels/base/model.py:1286: RuntimeWarning: invalid value encountered in sqrt\n",
      "  bse_ = np.sqrt(np.diag(self.cov_params()))\n",
      "/anaconda3/lib/python3.7/site-packages/scipy/stats/_distn_infrastructure.py:901: RuntimeWarning: invalid value encountered in greater\n",
      "  return (a < x) & (x < b)\n",
      "/anaconda3/lib/python3.7/site-packages/scipy/stats/_distn_infrastructure.py:901: RuntimeWarning: invalid value encountered in less\n",
      "  return (a < x) & (x < b)\n",
      "/anaconda3/lib/python3.7/site-packages/scipy/stats/_distn_infrastructure.py:1892: RuntimeWarning: invalid value encountered in less_equal\n",
      "  cond2 = cond0 & (x <= _a)\n"
     ]
    }
   ],
   "source": [
    "import statsmodels.api as sm\n",
    "mod = sm.tsa.VARMAX(X_train, order=(0,1), error_cov_type='diagonal')\n",
    "res = mod.fit(maxiter=10, disp=False)\n",
    "print(res.summary())"
   ]
  },
  {
   "cell_type": "code",
   "execution_count": 33,
   "metadata": {},
   "outputs": [
    {
     "data": {
      "text/plain": [
       "0       3.525812\n",
       "1       3.826881\n",
       "2       3.497244\n",
       "3       3.515688\n",
       "4       3.513661\n",
       "          ...   \n",
       "2263    3.525812\n",
       "2264    3.525812\n",
       "2265    3.525812\n",
       "2266    3.525812\n",
       "2267    3.525812\n",
       "Name: avg_speed_imputed_transform, Length: 2268, dtype: float64"
      ]
     },
     "execution_count": 33,
     "metadata": {},
     "output_type": "execute_result"
    }
   ],
   "source": [
    "var_pred = res.predict(start= y_train.index.min(), end=y_test.index.max() )\n",
    "var_pred['avg_speed_imputed_transform']"
   ]
  },
  {
   "cell_type": "code",
   "execution_count": 34,
   "metadata": {},
   "outputs": [],
   "source": [
    "data12[\"VARMAX_pred\"] = var_pred['avg_speed_imputed_transform']"
   ]
  },
  {
   "cell_type": "code",
   "execution_count": 35,
   "metadata": {},
   "outputs": [],
   "source": [
    "mask = (data12['VARMAX_pred'] > 0)\n",
    "data12 = data12[mask]"
   ]
  },
  {
   "cell_type": "code",
   "execution_count": 36,
   "metadata": {},
   "outputs": [
    {
     "data": {
      "text/html": [
       "<div>\n",
       "<style scoped>\n",
       "    .dataframe tbody tr th:only-of-type {\n",
       "        vertical-align: middle;\n",
       "    }\n",
       "\n",
       "    .dataframe tbody tr th {\n",
       "        vertical-align: top;\n",
       "    }\n",
       "\n",
       "    .dataframe thead th {\n",
       "        text-align: right;\n",
       "    }\n",
       "</style>\n",
       "<table border=\"1\" class=\"dataframe\">\n",
       "  <thead>\n",
       "    <tr style=\"text-align: right;\">\n",
       "      <th></th>\n",
       "      <th>coef</th>\n",
       "      <th>max_speed</th>\n",
       "      <th>max_dir</th>\n",
       "      <th>avg_speed</th>\n",
       "      <th>avg_dir</th>\n",
       "      <th>month</th>\n",
       "      <th>avg_speed_regression_imputed</th>\n",
       "      <th>avg_speed_imputed_transform</th>\n",
       "      <th>first_diff</th>\n",
       "      <th>second_diff</th>\n",
       "      <th>ARIMA_pred</th>\n",
       "      <th>VARMAX_pred</th>\n",
       "    </tr>\n",
       "  </thead>\n",
       "  <tbody>\n",
       "    <tr>\n",
       "      <th>0</th>\n",
       "      <td>0.146</td>\n",
       "      <td>211.0</td>\n",
       "      <td>7.0</td>\n",
       "      <td>198.0</td>\n",
       "      <td>8.0</td>\n",
       "      <td>12</td>\n",
       "      <td>200.108448</td>\n",
       "      <td>3.761113</td>\n",
       "      <td>0.000000</td>\n",
       "      <td>0.000000</td>\n",
       "      <td>3.633953</td>\n",
       "      <td>3.525812</td>\n",
       "    </tr>\n",
       "    <tr>\n",
       "      <th>1</th>\n",
       "      <td>0.481</td>\n",
       "      <td>202.0</td>\n",
       "      <td>3.0</td>\n",
       "      <td>198.0</td>\n",
       "      <td>3.0</td>\n",
       "      <td>12</td>\n",
       "      <td>188.698452</td>\n",
       "      <td>3.706313</td>\n",
       "      <td>-0.054800</td>\n",
       "      <td>0.000000</td>\n",
       "      <td>3.567978</td>\n",
       "      <td>3.826881</td>\n",
       "    </tr>\n",
       "    <tr>\n",
       "      <th>2</th>\n",
       "      <td>0.478</td>\n",
       "      <td>199.0</td>\n",
       "      <td>3.0</td>\n",
       "      <td>197.0</td>\n",
       "      <td>3.0</td>\n",
       "      <td>12</td>\n",
       "      <td>186.432626</td>\n",
       "      <td>3.695136</td>\n",
       "      <td>-0.011176</td>\n",
       "      <td>0.043623</td>\n",
       "      <td>3.605626</td>\n",
       "      <td>3.497244</td>\n",
       "    </tr>\n",
       "    <tr>\n",
       "      <th>3</th>\n",
       "      <td>0.630</td>\n",
       "      <td>197.0</td>\n",
       "      <td>3.0</td>\n",
       "      <td>196.0</td>\n",
       "      <td>3.0</td>\n",
       "      <td>12</td>\n",
       "      <td>184.985096</td>\n",
       "      <td>3.687943</td>\n",
       "      <td>-0.007194</td>\n",
       "      <td>0.003983</td>\n",
       "      <td>3.578984</td>\n",
       "      <td>3.515688</td>\n",
       "    </tr>\n",
       "    <tr>\n",
       "      <th>4</th>\n",
       "      <td>0.983</td>\n",
       "      <td>197.0</td>\n",
       "      <td>3.0</td>\n",
       "      <td>197.0</td>\n",
       "      <td>3.0</td>\n",
       "      <td>12</td>\n",
       "      <td>185.129551</td>\n",
       "      <td>3.688663</td>\n",
       "      <td>0.000720</td>\n",
       "      <td>0.007913</td>\n",
       "      <td>3.597500</td>\n",
       "      <td>3.513661</td>\n",
       "    </tr>\n",
       "  </tbody>\n",
       "</table>\n",
       "</div>"
      ],
      "text/plain": [
       "    coef  max_speed  max_dir  avg_speed  avg_dir  month  \\\n",
       "0  0.146      211.0      7.0      198.0      8.0     12   \n",
       "1  0.481      202.0      3.0      198.0      3.0     12   \n",
       "2  0.478      199.0      3.0      197.0      3.0     12   \n",
       "3  0.630      197.0      3.0      196.0      3.0     12   \n",
       "4  0.983      197.0      3.0      197.0      3.0     12   \n",
       "\n",
       "   avg_speed_regression_imputed  avg_speed_imputed_transform  first_diff  \\\n",
       "0                    200.108448                     3.761113    0.000000   \n",
       "1                    188.698452                     3.706313   -0.054800   \n",
       "2                    186.432626                     3.695136   -0.011176   \n",
       "3                    184.985096                     3.687943   -0.007194   \n",
       "4                    185.129551                     3.688663    0.000720   \n",
       "\n",
       "   second_diff  ARIMA_pred  VARMAX_pred  \n",
       "0     0.000000    3.633953     3.525812  \n",
       "1     0.000000    3.567978     3.826881  \n",
       "2     0.043623    3.605626     3.497244  \n",
       "3     0.003983    3.578984     3.515688  \n",
       "4     0.007913    3.597500     3.513661  "
      ]
     },
     "execution_count": 36,
     "metadata": {},
     "output_type": "execute_result"
    }
   ],
   "source": [
    "data12.head()"
   ]
  },
  {
   "cell_type": "code",
   "execution_count": 37,
   "metadata": {},
   "outputs": [
    {
     "data": {
      "image/png": "[encoded data removed]",
      "text/plain": [
       "<Figure size 432x288 with 1 Axes>"
      ]
     },
     "metadata": {
      "needs_background": "light"
     },
     "output_type": "display_data"
    }
   ],
   "source": [
    "plt.plot(y_train.index,y_train, c = \"blue\")\n",
    "plt.plot(y_test.index,y_test, c = \"orange\")\n",
    "plt.plot(data12['VARMAX_pred'].index ,data12['VARMAX_pred'], c = \"green\")\n",
    "plt.title(\"VARMAX Wind Speed Predictions, 2001 Year\");"
   ]
  },
  {
   "cell_type": "code",
   "execution_count": 38,
   "metadata": {},
   "outputs": [
    {
     "name": "stdout",
     "output_type": "stream",
     "text": [
      "VARMAX MSE is: 0.021439024574652205\n",
      "VARMAX RMSE is: 0.14642071088016273\n",
      "Avg Wind Speed is: 3.523245200444747\n",
      "Avg Wind Speed Prediction is: 3.5259381017583165\n"
     ]
    }
   ],
   "source": [
    "mse = mean_squared_error(data12['avg_speed_imputed_transform'],data12['VARMAX_pred'])\n",
    "print(\"VARMAX MSE is:\", mse)\n",
    "rmse = math.sqrt(mse)\n",
    "print(\"VARMAX RMSE is:\", rmse)\n",
    "mean1 = statistics.mean(data12['avg_speed_imputed_transform'])\n",
    "print(\"Avg Wind Speed is:\", mean1 )\n",
    "mean2 = statistics.mean(data12['VARMAX_pred'])\n",
    "print(\"Avg Wind Speed Prediction is:\", mean2 )"
   ]
  },
  {
   "cell_type": "code",
   "execution_count": null,
   "metadata": {},
   "outputs": [],
   "source": []
  },
  {
   "cell_type": "markdown",
   "metadata": {},
   "source": [
    "### Introduction to SARIMAX Seasonal Model for All 12 Months (January- December 2001):\n",
    "######SARIMA(Seasonal Autoregressive Integrated Moving Average) is a seasonal version of ARIMA. It adds to ARIMA by modeling univariate time series data with a seasonal component. SARIMA has three new hyperparameters that accounts for seasonality which are the autoregression (AR), differencing (I), and moving average (MA) parameters. Lastly, it has an additional parameter called the period of seasonality (6)."
   ]
  },
  {
   "cell_type": "code",
   "execution_count": 39,
   "metadata": {},
   "outputs": [],
   "source": [
    "import pandas as pd\n",
    "import numpy as np\n",
    "from sklearn.linear_model import LinearRegression, LogisticRegression\n",
    "import statsmodels.api as sm\n",
    "from sklearn.model_selection import train_test_split\n",
    "\n",
    "data = pd.read_csv(\"./1-12_final.csv\")"
   ]
  },
  {
   "cell_type": "code",
   "execution_count": 40,
   "metadata": {},
   "outputs": [
    {
     "data": {
      "text/html": [
       "<div>\n",
       "<style scoped>\n",
       "    .dataframe tbody tr th:only-of-type {\n",
       "        vertical-align: middle;\n",
       "    }\n",
       "\n",
       "    .dataframe tbody tr th {\n",
       "        vertical-align: top;\n",
       "    }\n",
       "\n",
       "    .dataframe thead th {\n",
       "        text-align: right;\n",
       "    }\n",
       "</style>\n",
       "<table border=\"1\" class=\"dataframe\">\n",
       "  <thead>\n",
       "    <tr style=\"text-align: right;\">\n",
       "      <th></th>\n",
       "      <th>Unnamed: 0</th>\n",
       "      <th>Unnamed: 0.1</th>\n",
       "      <th>Unnamed: 0.1.1</th>\n",
       "      <th>Unnamed: 0.1.1.1</th>\n",
       "      <th>Unnamed: 0.1.1.1.1</th>\n",
       "      <th>Unnamed: 0.1.1.1.1.1</th>\n",
       "      <th>Unnamed: 0.1.1.1.1.1.1</th>\n",
       "      <th>Unnamed: 0.1.1.1.1.1.1.1</th>\n",
       "      <th>Unnamed: 0.1.1.1.1.1.1.1.1</th>\n",
       "      <th>Unnamed: 0.1.1.1.1.1.1.1.1.1</th>\n",
       "      <th>...</th>\n",
       "      <th>coef</th>\n",
       "      <th>d/n</th>\n",
       "      <th>max_speed</th>\n",
       "      <th>max_dir</th>\n",
       "      <th>avg_speed</th>\n",
       "      <th>avg_dir</th>\n",
       "      <th>month</th>\n",
       "      <th>VARMAX_pred</th>\n",
       "      <th>avg_speed_regression_imputed</th>\n",
       "      <th>avg_speed_imputed_transform</th>\n",
       "    </tr>\n",
       "  </thead>\n",
       "  <tbody>\n",
       "    <tr>\n",
       "      <th>0</th>\n",
       "      <td>0</td>\n",
       "      <td>0.0</td>\n",
       "      <td>0.0</td>\n",
       "      <td>0.0</td>\n",
       "      <td>0.0</td>\n",
       "      <td>0.0</td>\n",
       "      <td>0.0</td>\n",
       "      <td>0.0</td>\n",
       "      <td>0.0</td>\n",
       "      <td>0.0</td>\n",
       "      <td>...</td>\n",
       "      <td>1.950</td>\n",
       "      <td>N</td>\n",
       "      <td>43.0</td>\n",
       "      <td>2.0</td>\n",
       "      <td>40.0</td>\n",
       "      <td>2.0</td>\n",
       "      <td>1</td>\n",
       "      <td>3.941545</td>\n",
       "      <td>41.042636</td>\n",
       "      <td>2.531097</td>\n",
       "    </tr>\n",
       "    <tr>\n",
       "      <th>1</th>\n",
       "      <td>1</td>\n",
       "      <td>1.0</td>\n",
       "      <td>1.0</td>\n",
       "      <td>1.0</td>\n",
       "      <td>1.0</td>\n",
       "      <td>1.0</td>\n",
       "      <td>1.0</td>\n",
       "      <td>1.0</td>\n",
       "      <td>1.0</td>\n",
       "      <td>1.0</td>\n",
       "      <td>...</td>\n",
       "      <td>1.974</td>\n",
       "      <td>N</td>\n",
       "      <td>40.0</td>\n",
       "      <td>2.0</td>\n",
       "      <td>41.0</td>\n",
       "      <td>2.0</td>\n",
       "      <td>1</td>\n",
       "      <td>3.084103</td>\n",
       "      <td>39.349417</td>\n",
       "      <td>2.504578</td>\n",
       "    </tr>\n",
       "    <tr>\n",
       "      <th>2</th>\n",
       "      <td>2</td>\n",
       "      <td>2.0</td>\n",
       "      <td>2.0</td>\n",
       "      <td>2.0</td>\n",
       "      <td>2.0</td>\n",
       "      <td>2.0</td>\n",
       "      <td>2.0</td>\n",
       "      <td>2.0</td>\n",
       "      <td>2.0</td>\n",
       "      <td>2.0</td>\n",
       "      <td>...</td>\n",
       "      <td>1.728</td>\n",
       "      <td>N</td>\n",
       "      <td>36.0</td>\n",
       "      <td>2.0</td>\n",
       "      <td>23.0</td>\n",
       "      <td>2.0</td>\n",
       "      <td>1</td>\n",
       "      <td>2.356797</td>\n",
       "      <td>37.250066</td>\n",
       "      <td>2.470482</td>\n",
       "    </tr>\n",
       "    <tr>\n",
       "      <th>3</th>\n",
       "      <td>3</td>\n",
       "      <td>3.0</td>\n",
       "      <td>3.0</td>\n",
       "      <td>3.0</td>\n",
       "      <td>3.0</td>\n",
       "      <td>3.0</td>\n",
       "      <td>3.0</td>\n",
       "      <td>3.0</td>\n",
       "      <td>3.0</td>\n",
       "      <td>3.0</td>\n",
       "      <td>...</td>\n",
       "      <td>1.272</td>\n",
       "      <td>N</td>\n",
       "      <td>23.0</td>\n",
       "      <td>2.0</td>\n",
       "      <td>15.0</td>\n",
       "      <td>2.0</td>\n",
       "      <td>1</td>\n",
       "      <td>2.679792</td>\n",
       "      <td>30.231611</td>\n",
       "      <td>2.344851</td>\n",
       "    </tr>\n",
       "    <tr>\n",
       "      <th>4</th>\n",
       "      <td>4</td>\n",
       "      <td>4.0</td>\n",
       "      <td>4.0</td>\n",
       "      <td>4.0</td>\n",
       "      <td>4.0</td>\n",
       "      <td>4.0</td>\n",
       "      <td>4.0</td>\n",
       "      <td>4.0</td>\n",
       "      <td>4.0</td>\n",
       "      <td>4.0</td>\n",
       "      <td>...</td>\n",
       "      <td>1.015</td>\n",
       "      <td>N</td>\n",
       "      <td>15.0</td>\n",
       "      <td>2.0</td>\n",
       "      <td>14.0</td>\n",
       "      <td>2.0</td>\n",
       "      <td>1</td>\n",
       "      <td>2.881641</td>\n",
       "      <td>25.899117</td>\n",
       "      <td>2.255907</td>\n",
       "    </tr>\n",
       "    <tr>\n",
       "      <th>...</th>\n",
       "      <td>...</td>\n",
       "      <td>...</td>\n",
       "      <td>...</td>\n",
       "      <td>...</td>\n",
       "      <td>...</td>\n",
       "      <td>...</td>\n",
       "      <td>...</td>\n",
       "      <td>...</td>\n",
       "      <td>...</td>\n",
       "      <td>...</td>\n",
       "      <td>...</td>\n",
       "      <td>...</td>\n",
       "      <td>...</td>\n",
       "      <td>...</td>\n",
       "      <td>...</td>\n",
       "      <td>...</td>\n",
       "      <td>...</td>\n",
       "      <td>...</td>\n",
       "      <td>...</td>\n",
       "      <td>...</td>\n",
       "      <td>...</td>\n",
       "    </tr>\n",
       "    <tr>\n",
       "      <th>107383</th>\n",
       "      <td>2263</td>\n",
       "      <td>NaN</td>\n",
       "      <td>NaN</td>\n",
       "      <td>NaN</td>\n",
       "      <td>NaN</td>\n",
       "      <td>NaN</td>\n",
       "      <td>NaN</td>\n",
       "      <td>NaN</td>\n",
       "      <td>NaN</td>\n",
       "      <td>NaN</td>\n",
       "      <td>...</td>\n",
       "      <td>0.071</td>\n",
       "      <td>NaN</td>\n",
       "      <td>201.0</td>\n",
       "      <td>1.0</td>\n",
       "      <td>196.0</td>\n",
       "      <td>1.0</td>\n",
       "      <td>12</td>\n",
       "      <td>NaN</td>\n",
       "      <td>185.301393</td>\n",
       "      <td>3.689518</td>\n",
       "    </tr>\n",
       "    <tr>\n",
       "      <th>107384</th>\n",
       "      <td>2264</td>\n",
       "      <td>NaN</td>\n",
       "      <td>NaN</td>\n",
       "      <td>NaN</td>\n",
       "      <td>NaN</td>\n",
       "      <td>NaN</td>\n",
       "      <td>NaN</td>\n",
       "      <td>NaN</td>\n",
       "      <td>NaN</td>\n",
       "      <td>NaN</td>\n",
       "      <td>...</td>\n",
       "      <td>0.076</td>\n",
       "      <td>NaN</td>\n",
       "      <td>199.0</td>\n",
       "      <td>2.0</td>\n",
       "      <td>198.0</td>\n",
       "      <td>2.0</td>\n",
       "      <td>12</td>\n",
       "      <td>NaN</td>\n",
       "      <td>185.030913</td>\n",
       "      <td>3.688171</td>\n",
       "    </tr>\n",
       "    <tr>\n",
       "      <th>107385</th>\n",
       "      <td>2265</td>\n",
       "      <td>NaN</td>\n",
       "      <td>NaN</td>\n",
       "      <td>NaN</td>\n",
       "      <td>NaN</td>\n",
       "      <td>NaN</td>\n",
       "      <td>NaN</td>\n",
       "      <td>NaN</td>\n",
       "      <td>NaN</td>\n",
       "      <td>NaN</td>\n",
       "      <td>...</td>\n",
       "      <td>0.076</td>\n",
       "      <td>NaN</td>\n",
       "      <td>197.0</td>\n",
       "      <td>2.0</td>\n",
       "      <td>196.0</td>\n",
       "      <td>2.0</td>\n",
       "      <td>12</td>\n",
       "      <td>NaN</td>\n",
       "      <td>183.521181</td>\n",
       "      <td>3.680625</td>\n",
       "    </tr>\n",
       "    <tr>\n",
       "      <th>107386</th>\n",
       "      <td>2266</td>\n",
       "      <td>NaN</td>\n",
       "      <td>NaN</td>\n",
       "      <td>NaN</td>\n",
       "      <td>NaN</td>\n",
       "      <td>NaN</td>\n",
       "      <td>NaN</td>\n",
       "      <td>NaN</td>\n",
       "      <td>NaN</td>\n",
       "      <td>NaN</td>\n",
       "      <td>...</td>\n",
       "      <td>0.084</td>\n",
       "      <td>NaN</td>\n",
       "      <td>211.0</td>\n",
       "      <td>3.0</td>\n",
       "      <td>199.0</td>\n",
       "      <td>3.0</td>\n",
       "      <td>12</td>\n",
       "      <td>NaN</td>\n",
       "      <td>195.329784</td>\n",
       "      <td>3.738455</td>\n",
       "    </tr>\n",
       "    <tr>\n",
       "      <th>107387</th>\n",
       "      <td>2267</td>\n",
       "      <td>NaN</td>\n",
       "      <td>NaN</td>\n",
       "      <td>NaN</td>\n",
       "      <td>NaN</td>\n",
       "      <td>NaN</td>\n",
       "      <td>NaN</td>\n",
       "      <td>NaN</td>\n",
       "      <td>NaN</td>\n",
       "      <td>NaN</td>\n",
       "      <td>...</td>\n",
       "      <td>0.085</td>\n",
       "      <td>NaN</td>\n",
       "      <td>203.0</td>\n",
       "      <td>3.0</td>\n",
       "      <td>197.0</td>\n",
       "      <td>3.0</td>\n",
       "      <td>12</td>\n",
       "      <td>NaN</td>\n",
       "      <td>189.291266</td>\n",
       "      <td>3.709220</td>\n",
       "    </tr>\n",
       "  </tbody>\n",
       "</table>\n",
       "<p>107388 rows × 25 columns</p>\n",
       "</div>"
      ],
      "text/plain": [
       "        Unnamed: 0  Unnamed: 0.1  Unnamed: 0.1.1  Unnamed: 0.1.1.1  \\\n",
       "0                0           0.0             0.0               0.0   \n",
       "1                1           1.0             1.0               1.0   \n",
       "2                2           2.0             2.0               2.0   \n",
       "3                3           3.0             3.0               3.0   \n",
       "4                4           4.0             4.0               4.0   \n",
       "...            ...           ...             ...               ...   \n",
       "107383        2263           NaN             NaN               NaN   \n",
       "107384        2264           NaN             NaN               NaN   \n",
       "107385        2265           NaN             NaN               NaN   \n",
       "107386        2266           NaN             NaN               NaN   \n",
       "107387        2267           NaN             NaN               NaN   \n",
       "\n",
       "        Unnamed: 0.1.1.1.1  Unnamed: 0.1.1.1.1.1  Unnamed: 0.1.1.1.1.1.1  \\\n",
       "0                      0.0                   0.0                     0.0   \n",
       "1                      1.0                   1.0                     1.0   \n",
       "2                      2.0                   2.0                     2.0   \n",
       "3                      3.0                   3.0                     3.0   \n",
       "4                      4.0                   4.0                     4.0   \n",
       "...                    ...                   ...                     ...   \n",
       "107383                 NaN                   NaN                     NaN   \n",
       "107384                 NaN                   NaN                     NaN   \n",
       "107385                 NaN                   NaN                     NaN   \n",
       "107386                 NaN                   NaN                     NaN   \n",
       "107387                 NaN                   NaN                     NaN   \n",
       "\n",
       "        Unnamed: 0.1.1.1.1.1.1.1  Unnamed: 0.1.1.1.1.1.1.1.1  \\\n",
       "0                            0.0                         0.0   \n",
       "1                            1.0                         1.0   \n",
       "2                            2.0                         2.0   \n",
       "3                            3.0                         3.0   \n",
       "4                            4.0                         4.0   \n",
       "...                          ...                         ...   \n",
       "107383                       NaN                         NaN   \n",
       "107384                       NaN                         NaN   \n",
       "107385                       NaN                         NaN   \n",
       "107386                       NaN                         NaN   \n",
       "107387                       NaN                         NaN   \n",
       "\n",
       "        Unnamed: 0.1.1.1.1.1.1.1.1.1  ...   coef  d/n  max_speed max_dir  \\\n",
       "0                                0.0  ...  1.950    N       43.0     2.0   \n",
       "1                                1.0  ...  1.974    N       40.0     2.0   \n",
       "2                                2.0  ...  1.728    N       36.0     2.0   \n",
       "3                                3.0  ...  1.272    N       23.0     2.0   \n",
       "4                                4.0  ...  1.015    N       15.0     2.0   \n",
       "...                              ...  ...    ...  ...        ...     ...   \n",
       "107383                           NaN  ...  0.071  NaN      201.0     1.0   \n",
       "107384                           NaN  ...  0.076  NaN      199.0     2.0   \n",
       "107385                           NaN  ...  0.076  NaN      197.0     2.0   \n",
       "107386                           NaN  ...  0.084  NaN      211.0     3.0   \n",
       "107387                           NaN  ...  0.085  NaN      203.0     3.0   \n",
       "\n",
       "       avg_speed  avg_dir month  VARMAX_pred  avg_speed_regression_imputed  \\\n",
       "0           40.0      2.0     1     3.941545                     41.042636   \n",
       "1           41.0      2.0     1     3.084103                     39.349417   \n",
       "2           23.0      2.0     1     2.356797                     37.250066   \n",
       "3           15.0      2.0     1     2.679792                     30.231611   \n",
       "4           14.0      2.0     1     2.881641                     25.899117   \n",
       "...          ...      ...   ...          ...                           ...   \n",
       "107383     196.0      1.0    12          NaN                    185.301393   \n",
       "107384     198.0      2.0    12          NaN                    185.030913   \n",
       "107385     196.0      2.0    12          NaN                    183.521181   \n",
       "107386     199.0      3.0    12          NaN                    195.329784   \n",
       "107387     197.0      3.0    12          NaN                    189.291266   \n",
       "\n",
       "        avg_speed_imputed_transform  \n",
       "0                          2.531097  \n",
       "1                          2.504578  \n",
       "2                          2.470482  \n",
       "3                          2.344851  \n",
       "4                          2.255907  \n",
       "...                             ...  \n",
       "107383                     3.689518  \n",
       "107384                     3.688171  \n",
       "107385                     3.680625  \n",
       "107386                     3.738455  \n",
       "107387                     3.709220  \n",
       "\n",
       "[107388 rows x 25 columns]"
      ]
     },
     "execution_count": 40,
     "metadata": {},
     "output_type": "execute_result"
    }
   ],
   "source": [
    "data"
   ]
  },
  {
   "cell_type": "code",
   "execution_count": 41,
   "metadata": {},
   "outputs": [],
   "source": [
    "#Consolidate DataFrame to only contain Target Values\n",
    "data = data[['coef',\"max_speed\",\"max_dir\",\"avg_speed\",\"avg_dir\",\"month\",\"VARMAX_pred\",\"avg_speed_regression_imputed\",\"avg_speed_imputed_transform\"]]"
   ]
  },
  {
   "cell_type": "code",
   "execution_count": 42,
   "metadata": {},
   "outputs": [
    {
     "data": {
      "text/html": [
       "<div>\n",
       "<style scoped>\n",
       "    .dataframe tbody tr th:only-of-type {\n",
       "        vertical-align: middle;\n",
       "    }\n",
       "\n",
       "    .dataframe tbody tr th {\n",
       "        vertical-align: top;\n",
       "    }\n",
       "\n",
       "    .dataframe thead th {\n",
       "        text-align: right;\n",
       "    }\n",
       "</style>\n",
       "<table border=\"1\" class=\"dataframe\">\n",
       "  <thead>\n",
       "    <tr style=\"text-align: right;\">\n",
       "      <th></th>\n",
       "      <th>coef</th>\n",
       "      <th>max_speed</th>\n",
       "      <th>max_dir</th>\n",
       "      <th>avg_speed</th>\n",
       "      <th>avg_dir</th>\n",
       "      <th>month</th>\n",
       "      <th>VARMAX_pred</th>\n",
       "      <th>avg_speed_regression_imputed</th>\n",
       "      <th>avg_speed_imputed_transform</th>\n",
       "    </tr>\n",
       "  </thead>\n",
       "  <tbody>\n",
       "    <tr>\n",
       "      <th>0</th>\n",
       "      <td>1.950</td>\n",
       "      <td>43.0</td>\n",
       "      <td>2.0</td>\n",
       "      <td>40.0</td>\n",
       "      <td>2.0</td>\n",
       "      <td>1</td>\n",
       "      <td>3.941545</td>\n",
       "      <td>41.042636</td>\n",
       "      <td>2.531097</td>\n",
       "    </tr>\n",
       "    <tr>\n",
       "      <th>1</th>\n",
       "      <td>1.974</td>\n",
       "      <td>40.0</td>\n",
       "      <td>2.0</td>\n",
       "      <td>41.0</td>\n",
       "      <td>2.0</td>\n",
       "      <td>1</td>\n",
       "      <td>3.084103</td>\n",
       "      <td>39.349417</td>\n",
       "      <td>2.504578</td>\n",
       "    </tr>\n",
       "    <tr>\n",
       "      <th>2</th>\n",
       "      <td>1.728</td>\n",
       "      <td>36.0</td>\n",
       "      <td>2.0</td>\n",
       "      <td>23.0</td>\n",
       "      <td>2.0</td>\n",
       "      <td>1</td>\n",
       "      <td>2.356797</td>\n",
       "      <td>37.250066</td>\n",
       "      <td>2.470482</td>\n",
       "    </tr>\n",
       "    <tr>\n",
       "      <th>3</th>\n",
       "      <td>1.272</td>\n",
       "      <td>23.0</td>\n",
       "      <td>2.0</td>\n",
       "      <td>15.0</td>\n",
       "      <td>2.0</td>\n",
       "      <td>1</td>\n",
       "      <td>2.679792</td>\n",
       "      <td>30.231611</td>\n",
       "      <td>2.344851</td>\n",
       "    </tr>\n",
       "    <tr>\n",
       "      <th>4</th>\n",
       "      <td>1.015</td>\n",
       "      <td>15.0</td>\n",
       "      <td>2.0</td>\n",
       "      <td>14.0</td>\n",
       "      <td>2.0</td>\n",
       "      <td>1</td>\n",
       "      <td>2.881641</td>\n",
       "      <td>25.899117</td>\n",
       "      <td>2.255907</td>\n",
       "    </tr>\n",
       "    <tr>\n",
       "      <th>...</th>\n",
       "      <td>...</td>\n",
       "      <td>...</td>\n",
       "      <td>...</td>\n",
       "      <td>...</td>\n",
       "      <td>...</td>\n",
       "      <td>...</td>\n",
       "      <td>...</td>\n",
       "      <td>...</td>\n",
       "      <td>...</td>\n",
       "    </tr>\n",
       "    <tr>\n",
       "      <th>107383</th>\n",
       "      <td>0.071</td>\n",
       "      <td>201.0</td>\n",
       "      <td>1.0</td>\n",
       "      <td>196.0</td>\n",
       "      <td>1.0</td>\n",
       "      <td>12</td>\n",
       "      <td>NaN</td>\n",
       "      <td>185.301393</td>\n",
       "      <td>3.689518</td>\n",
       "    </tr>\n",
       "    <tr>\n",
       "      <th>107384</th>\n",
       "      <td>0.076</td>\n",
       "      <td>199.0</td>\n",
       "      <td>2.0</td>\n",
       "      <td>198.0</td>\n",
       "      <td>2.0</td>\n",
       "      <td>12</td>\n",
       "      <td>NaN</td>\n",
       "      <td>185.030913</td>\n",
       "      <td>3.688171</td>\n",
       "    </tr>\n",
       "    <tr>\n",
       "      <th>107385</th>\n",
       "      <td>0.076</td>\n",
       "      <td>197.0</td>\n",
       "      <td>2.0</td>\n",
       "      <td>196.0</td>\n",
       "      <td>2.0</td>\n",
       "      <td>12</td>\n",
       "      <td>NaN</td>\n",
       "      <td>183.521181</td>\n",
       "      <td>3.680625</td>\n",
       "    </tr>\n",
       "    <tr>\n",
       "      <th>107386</th>\n",
       "      <td>0.084</td>\n",
       "      <td>211.0</td>\n",
       "      <td>3.0</td>\n",
       "      <td>199.0</td>\n",
       "      <td>3.0</td>\n",
       "      <td>12</td>\n",
       "      <td>NaN</td>\n",
       "      <td>195.329784</td>\n",
       "      <td>3.738455</td>\n",
       "    </tr>\n",
       "    <tr>\n",
       "      <th>107387</th>\n",
       "      <td>0.085</td>\n",
       "      <td>203.0</td>\n",
       "      <td>3.0</td>\n",
       "      <td>197.0</td>\n",
       "      <td>3.0</td>\n",
       "      <td>12</td>\n",
       "      <td>NaN</td>\n",
       "      <td>189.291266</td>\n",
       "      <td>3.709220</td>\n",
       "    </tr>\n",
       "  </tbody>\n",
       "</table>\n",
       "<p>107388 rows × 9 columns</p>\n",
       "</div>"
      ],
      "text/plain": [
       "         coef  max_speed  max_dir  avg_speed  avg_dir  month  VARMAX_pred  \\\n",
       "0       1.950       43.0      2.0       40.0      2.0      1     3.941545   \n",
       "1       1.974       40.0      2.0       41.0      2.0      1     3.084103   \n",
       "2       1.728       36.0      2.0       23.0      2.0      1     2.356797   \n",
       "3       1.272       23.0      2.0       15.0      2.0      1     2.679792   \n",
       "4       1.015       15.0      2.0       14.0      2.0      1     2.881641   \n",
       "...       ...        ...      ...        ...      ...    ...          ...   \n",
       "107383  0.071      201.0      1.0      196.0      1.0     12          NaN   \n",
       "107384  0.076      199.0      2.0      198.0      2.0     12          NaN   \n",
       "107385  0.076      197.0      2.0      196.0      2.0     12          NaN   \n",
       "107386  0.084      211.0      3.0      199.0      3.0     12          NaN   \n",
       "107387  0.085      203.0      3.0      197.0      3.0     12          NaN   \n",
       "\n",
       "        avg_speed_regression_imputed  avg_speed_imputed_transform  \n",
       "0                          41.042636                     2.531097  \n",
       "1                          39.349417                     2.504578  \n",
       "2                          37.250066                     2.470482  \n",
       "3                          30.231611                     2.344851  \n",
       "4                          25.899117                     2.255907  \n",
       "...                              ...                          ...  \n",
       "107383                    185.301393                     3.689518  \n",
       "107384                    185.030913                     3.688171  \n",
       "107385                    183.521181                     3.680625  \n",
       "107386                    195.329784                     3.738455  \n",
       "107387                    189.291266                     3.709220  \n",
       "\n",
       "[107388 rows x 9 columns]"
      ]
     },
     "execution_count": 42,
     "metadata": {},
     "output_type": "execute_result"
    }
   ],
   "source": [
    "data"
   ]
  },
  {
   "cell_type": "code",
   "execution_count": 43,
   "metadata": {},
   "outputs": [],
   "source": [
    "#Prepare a Train-Test Split to run our models.\n",
    "X_train, X_test, y_train, y_test = train_test_split(data[['coef', 'max_speed', 'max_dir',\"avg_dir\",\"month\"]],\n",
    "                                                    data['avg_speed_imputed_transform'],\n",
    "                                                    test_size = 0.2,shuffle = False)"
   ]
  },
  {
   "cell_type": "code",
   "execution_count": 44,
   "metadata": {},
   "outputs": [],
   "source": [
    "\n",
    "from statsmodels.tsa.statespace.sarimax import SARIMAX"
   ]
  },
  {
   "cell_type": "code",
   "execution_count": 45,
   "metadata": {},
   "outputs": [],
   "source": [
    "#Create SARIMAX model.\n",
    "model = sm.tsa.statespace.SARIMAX(y_train,order=(0,1,0),seasonal_order=(0,1,1,12),trend='c')"
   ]
  },
  {
   "cell_type": "code",
   "execution_count": 46,
   "metadata": {},
   "outputs": [
    {
     "name": "stdout",
     "output_type": "stream",
     "text": [
      "                                 Statespace Model Results                                 \n",
      "==========================================================================================\n",
      "Dep. Variable:        avg_speed_imputed_transform   No. Observations:                85910\n",
      "Model:             SARIMAX(0, 1, 0)x(0, 1, 1, 12)   Log Likelihood              -33791.121\n",
      "Date:                            Fri, 17 Apr 2020   AIC                          67588.243\n",
      "Time:                                    15:18:21   BIC                          67616.326\n",
      "Sample:                                         0   HQIC                         67596.824\n",
      "                                          - 85910                                         \n",
      "Covariance Type:                              opg                                         \n",
      "==============================================================================\n",
      "                 coef    std err          z      P>|z|      [0.025      0.975]\n",
      "------------------------------------------------------------------------------\n",
      "intercept  -4.868e-06   1.89e-06     -2.580      0.010   -8.57e-06   -1.17e-06\n",
      "ma.S.L12      -0.9990      0.000  -4766.286      0.000      -0.999      -0.999\n",
      "sigma2         0.1481      0.000   1044.510      0.000       0.148       0.148\n",
      "===================================================================================\n",
      "Ljung-Box (Q):                    10502.13   Jarque-Bera (JB):          18961229.77\n",
      "Prob(Q):                              0.00   Prob(JB):                         0.00\n",
      "Heteroskedasticity (H):               0.39   Skew:                             0.01\n",
      "Prob(H) (two-sided):                  0.00   Kurtosis:                        75.79\n",
      "===================================================================================\n",
      "\n",
      "Warnings:\n",
      "[1] Covariance matrix calculated using the outer product of gradients (complex-step).\n"
     ]
    }
   ],
   "source": [
    "results=model.fit()\n",
    "print(results.summary())"
   ]
  },
  {
   "cell_type": "code",
   "execution_count": 47,
   "metadata": {},
   "outputs": [
    {
     "name": "stderr",
     "output_type": "stream",
     "text": [
      "/anaconda3/lib/python3.7/site-packages/ipykernel_launcher.py:1: SettingWithCopyWarning: \n",
      "A value is trying to be set on a copy of a slice from a DataFrame.\n",
      "Try using .loc[row_indexer,col_indexer] = value instead\n",
      "\n",
      "See the caveats in the documentation: https://pandas.pydata.org/pandas-docs/stable/user_guide/indexing.html#returning-a-view-versus-a-copy\n",
      "  \"\"\"Entry point for launching an IPython kernel.\n"
     ]
    }
   ],
   "source": [
    "data['SARIMAX_preds'] = results.predict(start=X_train.index.min(), end= X_test.index.max())"
   ]
  },
  {
   "cell_type": "code",
   "execution_count": 48,
   "metadata": {},
   "outputs": [
    {
     "data": {
      "text/html": [
       "<div>\n",
       "<style scoped>\n",
       "    .dataframe tbody tr th:only-of-type {\n",
       "        vertical-align: middle;\n",
       "    }\n",
       "\n",
       "    .dataframe tbody tr th {\n",
       "        vertical-align: top;\n",
       "    }\n",
       "\n",
       "    .dataframe thead th {\n",
       "        text-align: right;\n",
       "    }\n",
       "</style>\n",
       "<table border=\"1\" class=\"dataframe\">\n",
       "  <thead>\n",
       "    <tr style=\"text-align: right;\">\n",
       "      <th></th>\n",
       "      <th>coef</th>\n",
       "      <th>max_speed</th>\n",
       "      <th>max_dir</th>\n",
       "      <th>avg_speed</th>\n",
       "      <th>avg_dir</th>\n",
       "      <th>month</th>\n",
       "      <th>VARMAX_pred</th>\n",
       "      <th>avg_speed_regression_imputed</th>\n",
       "      <th>avg_speed_imputed_transform</th>\n",
       "      <th>SARIMAX_preds</th>\n",
       "    </tr>\n",
       "  </thead>\n",
       "  <tbody>\n",
       "    <tr>\n",
       "      <th>0</th>\n",
       "      <td>1.950</td>\n",
       "      <td>43.0</td>\n",
       "      <td>2.0</td>\n",
       "      <td>40.0</td>\n",
       "      <td>2.0</td>\n",
       "      <td>1</td>\n",
       "      <td>3.941545</td>\n",
       "      <td>41.042636</td>\n",
       "      <td>2.531097</td>\n",
       "      <td>-0.000005</td>\n",
       "    </tr>\n",
       "    <tr>\n",
       "      <th>1</th>\n",
       "      <td>1.974</td>\n",
       "      <td>40.0</td>\n",
       "      <td>2.0</td>\n",
       "      <td>41.0</td>\n",
       "      <td>2.0</td>\n",
       "      <td>1</td>\n",
       "      <td>3.084103</td>\n",
       "      <td>39.349417</td>\n",
       "      <td>2.504578</td>\n",
       "      <td>2.531092</td>\n",
       "    </tr>\n",
       "    <tr>\n",
       "      <th>2</th>\n",
       "      <td>1.728</td>\n",
       "      <td>36.0</td>\n",
       "      <td>2.0</td>\n",
       "      <td>23.0</td>\n",
       "      <td>2.0</td>\n",
       "      <td>1</td>\n",
       "      <td>2.356797</td>\n",
       "      <td>37.250066</td>\n",
       "      <td>2.470482</td>\n",
       "      <td>2.504573</td>\n",
       "    </tr>\n",
       "    <tr>\n",
       "      <th>3</th>\n",
       "      <td>1.272</td>\n",
       "      <td>23.0</td>\n",
       "      <td>2.0</td>\n",
       "      <td>15.0</td>\n",
       "      <td>2.0</td>\n",
       "      <td>1</td>\n",
       "      <td>2.679792</td>\n",
       "      <td>30.231611</td>\n",
       "      <td>2.344851</td>\n",
       "      <td>2.470478</td>\n",
       "    </tr>\n",
       "    <tr>\n",
       "      <th>4</th>\n",
       "      <td>1.015</td>\n",
       "      <td>15.0</td>\n",
       "      <td>2.0</td>\n",
       "      <td>14.0</td>\n",
       "      <td>2.0</td>\n",
       "      <td>1</td>\n",
       "      <td>2.881641</td>\n",
       "      <td>25.899117</td>\n",
       "      <td>2.255907</td>\n",
       "      <td>2.344847</td>\n",
       "    </tr>\n",
       "    <tr>\n",
       "      <th>...</th>\n",
       "      <td>...</td>\n",
       "      <td>...</td>\n",
       "      <td>...</td>\n",
       "      <td>...</td>\n",
       "      <td>...</td>\n",
       "      <td>...</td>\n",
       "      <td>...</td>\n",
       "      <td>...</td>\n",
       "      <td>...</td>\n",
       "      <td>...</td>\n",
       "    </tr>\n",
       "    <tr>\n",
       "      <th>107383</th>\n",
       "      <td>0.071</td>\n",
       "      <td>201.0</td>\n",
       "      <td>1.0</td>\n",
       "      <td>196.0</td>\n",
       "      <td>1.0</td>\n",
       "      <td>12</td>\n",
       "      <td>NaN</td>\n",
       "      <td>185.301393</td>\n",
       "      <td>3.689518</td>\n",
       "      <td>-206.545223</td>\n",
       "    </tr>\n",
       "    <tr>\n",
       "      <th>107384</th>\n",
       "      <td>0.076</td>\n",
       "      <td>199.0</td>\n",
       "      <td>2.0</td>\n",
       "      <td>198.0</td>\n",
       "      <td>2.0</td>\n",
       "      <td>12</td>\n",
       "      <td>NaN</td>\n",
       "      <td>185.030913</td>\n",
       "      <td>3.688171</td>\n",
       "      <td>-206.561790</td>\n",
       "    </tr>\n",
       "    <tr>\n",
       "      <th>107385</th>\n",
       "      <td>0.076</td>\n",
       "      <td>197.0</td>\n",
       "      <td>2.0</td>\n",
       "      <td>196.0</td>\n",
       "      <td>2.0</td>\n",
       "      <td>12</td>\n",
       "      <td>NaN</td>\n",
       "      <td>183.521181</td>\n",
       "      <td>3.680625</td>\n",
       "      <td>-206.589428</td>\n",
       "    </tr>\n",
       "    <tr>\n",
       "      <th>107386</th>\n",
       "      <td>0.084</td>\n",
       "      <td>211.0</td>\n",
       "      <td>3.0</td>\n",
       "      <td>199.0</td>\n",
       "      <td>3.0</td>\n",
       "      <td>12</td>\n",
       "      <td>NaN</td>\n",
       "      <td>195.329784</td>\n",
       "      <td>3.738455</td>\n",
       "      <td>-206.604186</td>\n",
       "    </tr>\n",
       "    <tr>\n",
       "      <th>107387</th>\n",
       "      <td>0.085</td>\n",
       "      <td>203.0</td>\n",
       "      <td>3.0</td>\n",
       "      <td>197.0</td>\n",
       "      <td>3.0</td>\n",
       "      <td>12</td>\n",
       "      <td>NaN</td>\n",
       "      <td>189.291266</td>\n",
       "      <td>3.709220</td>\n",
       "      <td>-206.606996</td>\n",
       "    </tr>\n",
       "  </tbody>\n",
       "</table>\n",
       "<p>107388 rows × 10 columns</p>\n",
       "</div>"
      ],
      "text/plain": [
       "         coef  max_speed  max_dir  avg_speed  avg_dir  month  VARMAX_pred  \\\n",
       "0       1.950       43.0      2.0       40.0      2.0      1     3.941545   \n",
       "1       1.974       40.0      2.0       41.0      2.0      1     3.084103   \n",
       "2       1.728       36.0      2.0       23.0      2.0      1     2.356797   \n",
       "3       1.272       23.0      2.0       15.0      2.0      1     2.679792   \n",
       "4       1.015       15.0      2.0       14.0      2.0      1     2.881641   \n",
       "...       ...        ...      ...        ...      ...    ...          ...   \n",
       "107383  0.071      201.0      1.0      196.0      1.0     12          NaN   \n",
       "107384  0.076      199.0      2.0      198.0      2.0     12          NaN   \n",
       "107385  0.076      197.0      2.0      196.0      2.0     12          NaN   \n",
       "107386  0.084      211.0      3.0      199.0      3.0     12          NaN   \n",
       "107387  0.085      203.0      3.0      197.0      3.0     12          NaN   \n",
       "\n",
       "        avg_speed_regression_imputed  avg_speed_imputed_transform  \\\n",
       "0                          41.042636                     2.531097   \n",
       "1                          39.349417                     2.504578   \n",
       "2                          37.250066                     2.470482   \n",
       "3                          30.231611                     2.344851   \n",
       "4                          25.899117                     2.255907   \n",
       "...                              ...                          ...   \n",
       "107383                    185.301393                     3.689518   \n",
       "107384                    185.030913                     3.688171   \n",
       "107385                    183.521181                     3.680625   \n",
       "107386                    195.329784                     3.738455   \n",
       "107387                    189.291266                     3.709220   \n",
       "\n",
       "        SARIMAX_preds  \n",
       "0           -0.000005  \n",
       "1            2.531092  \n",
       "2            2.504573  \n",
       "3            2.470478  \n",
       "4            2.344847  \n",
       "...               ...  \n",
       "107383    -206.545223  \n",
       "107384    -206.561790  \n",
       "107385    -206.589428  \n",
       "107386    -206.604186  \n",
       "107387    -206.606996  \n",
       "\n",
       "[107388 rows x 10 columns]"
      ]
     },
     "execution_count": 48,
     "metadata": {},
     "output_type": "execute_result"
    }
   ],
   "source": [
    "data"
   ]
  },
  {
   "cell_type": "code",
   "execution_count": 49,
   "metadata": {},
   "outputs": [
    {
     "data": {
      "image/png": "[encoded data removed]",
      "text/plain": [
       "<Figure size 432x288 with 1 Axes>"
      ]
     },
     "metadata": {
      "needs_background": "light"
     },
     "output_type": "display_data"
    }
   ],
   "source": [
    "plt.plot(y_train.index, y_train, c = \"blue\")\n",
    "plt.plot(y_test.index, y_test, c = \"orange\")\n",
    "plt.plot(data['SARIMAX_preds'].index,data['SARIMAX_preds'], c =\"green\");\n",
    "plt.title(\"SARIMAX Wind Speed Predictions, 2001\")\n",
    "plt.xlabel(\"index\")\n",
    "plt.ylabel(\"wind speeds mph\");"
   ]
  },
  {
   "cell_type": "code",
   "execution_count": 50,
   "metadata": {},
   "outputs": [],
   "source": [
    "#Remove NAs\n",
    "data = data.dropna()"
   ]
  },
  {
   "cell_type": "code",
   "execution_count": 51,
   "metadata": {},
   "outputs": [],
   "source": [
    "#Remove negative values\n",
    "mask3 = data['SARIMAX_preds']>0\n",
    "data = data[mask3]"
   ]
  },
  {
   "cell_type": "code",
   "execution_count": 52,
   "metadata": {},
   "outputs": [
    {
     "data": {
      "image/png": "[encoded data removed]",
      "text/plain": [
       "<Figure size 432x288 with 1 Axes>"
      ]
     },
     "metadata": {
      "needs_background": "light"
     },
     "output_type": "display_data"
    }
   ],
   "source": [
    "plt.plot(y_train.index, y_train, c = \"blue\")\n",
    "plt.plot(y_test.index, y_test, c = \"orange\")\n",
    "plt.plot(data['SARIMAX_preds'].index,data['SARIMAX_preds'], c =\"green\");\n",
    "plt.title(\"SARIMAX Wind Speed Predictions, 2001\")\n",
    "plt.xlabel(\"index\")\n",
    "plt.ylabel(\"wind speeds mph\");"
   ]
  },
  {
   "cell_type": "code",
   "execution_count": 53,
   "metadata": {},
   "outputs": [
    {
     "name": "stdout",
     "output_type": "stream",
     "text": [
      "SARIMAX MSE is: 0.1598084424406864\n",
      "SARIMAX RMSE is: 0.39976048133937203\n",
      "Avg Wind Speed is: 2.235517925870703\n",
      "Avg Wind Speed Prediction is: 2.2598102996774205\n"
     ]
    }
   ],
   "source": [
    "#Obtain scoring metrics for our model.\n",
    "mse = mean_squared_error(data['avg_speed_imputed_transform'],data['SARIMAX_preds'])\n",
    "print(\"SARIMAX MSE is:\", mse)\n",
    "rmse = math.sqrt(mse)\n",
    "print(\"SARIMAX RMSE is:\", rmse)\n",
    "mean1 = statistics.mean(data['avg_speed_imputed_transform'])\n",
    "print(\"Avg Wind Speed is:\", mean1 )\n",
    "mean2 = statistics.mean(data['SARIMAX_preds'])\n",
    "print(\"Avg Wind Speed Prediction is:\", mean2 )"
   ]
  },
  {
   "cell_type": "markdown",
   "metadata": {},
   "source": [
    "#####The SARIMAX model has a low MSE and RMSE and is good at predicting wind speeds until it reaches the end of the model and starts failing. I have excluded the negative predictions in the final plot and kept only positive ones. This model needs improvement."
   ]
  },
  {
   "cell_type": "code",
   "execution_count": null,
   "metadata": {},
   "outputs": [],
   "source": []
  },
  {
   "cell_type": "markdown",
   "metadata": {},
   "source": [
    "### Introduction to Hidden Markov Model on All 12 Months (January-December 2001):\n",
    "######The Markov Model time series forecasting follows the \"Markov Property\" which assumes that the probability of future states of the process depends only on the present state and not past states. In a Hidden Markov model, the current state of the process is \"unknown\" but we assume that there are observable behaviors or markers that tell us what the \"true\" state of the hidden process is. We need to know the existing possible states as well as the probability of transition between the states to determine the best course of action. If those values are unknown, they can be calculated using the \"Viterbi\" algorithm (7)."
   ]
  },
  {
   "cell_type": "code",
   "execution_count": 54,
   "metadata": {},
   "outputs": [
    {
     "data": {
      "text/html": [
       "<div>\n",
       "<style scoped>\n",
       "    .dataframe tbody tr th:only-of-type {\n",
       "        vertical-align: middle;\n",
       "    }\n",
       "\n",
       "    .dataframe tbody tr th {\n",
       "        vertical-align: top;\n",
       "    }\n",
       "\n",
       "    .dataframe thead th {\n",
       "        text-align: right;\n",
       "    }\n",
       "</style>\n",
       "<table border=\"1\" class=\"dataframe\">\n",
       "  <thead>\n",
       "    <tr style=\"text-align: right;\">\n",
       "      <th></th>\n",
       "      <th>coef</th>\n",
       "      <th>max_speed</th>\n",
       "      <th>max_dir</th>\n",
       "      <th>avg_speed</th>\n",
       "      <th>avg_dir</th>\n",
       "      <th>month</th>\n",
       "      <th>VARMAX_pred</th>\n",
       "      <th>avg_speed_regression_imputed</th>\n",
       "      <th>avg_speed_imputed_transform</th>\n",
       "      <th>SARIMAX_preds</th>\n",
       "    </tr>\n",
       "  </thead>\n",
       "  <tbody>\n",
       "    <tr>\n",
       "      <th>1</th>\n",
       "      <td>1.974</td>\n",
       "      <td>40.0</td>\n",
       "      <td>2.0</td>\n",
       "      <td>41.0</td>\n",
       "      <td>2.0</td>\n",
       "      <td>1</td>\n",
       "      <td>3.084103</td>\n",
       "      <td>39.349417</td>\n",
       "      <td>2.504578</td>\n",
       "      <td>2.531092</td>\n",
       "    </tr>\n",
       "    <tr>\n",
       "      <th>2</th>\n",
       "      <td>1.728</td>\n",
       "      <td>36.0</td>\n",
       "      <td>2.0</td>\n",
       "      <td>23.0</td>\n",
       "      <td>2.0</td>\n",
       "      <td>1</td>\n",
       "      <td>2.356797</td>\n",
       "      <td>37.250066</td>\n",
       "      <td>2.470482</td>\n",
       "      <td>2.504573</td>\n",
       "    </tr>\n",
       "    <tr>\n",
       "      <th>3</th>\n",
       "      <td>1.272</td>\n",
       "      <td>23.0</td>\n",
       "      <td>2.0</td>\n",
       "      <td>15.0</td>\n",
       "      <td>2.0</td>\n",
       "      <td>1</td>\n",
       "      <td>2.679792</td>\n",
       "      <td>30.231611</td>\n",
       "      <td>2.344851</td>\n",
       "      <td>2.470478</td>\n",
       "    </tr>\n",
       "    <tr>\n",
       "      <th>4</th>\n",
       "      <td>1.015</td>\n",
       "      <td>15.0</td>\n",
       "      <td>2.0</td>\n",
       "      <td>14.0</td>\n",
       "      <td>2.0</td>\n",
       "      <td>1</td>\n",
       "      <td>2.881641</td>\n",
       "      <td>25.899117</td>\n",
       "      <td>2.255907</td>\n",
       "      <td>2.344847</td>\n",
       "    </tr>\n",
       "    <tr>\n",
       "      <th>5</th>\n",
       "      <td>0.997</td>\n",
       "      <td>15.0</td>\n",
       "      <td>2.0</td>\n",
       "      <td>15.0</td>\n",
       "      <td>2.0</td>\n",
       "      <td>1</td>\n",
       "      <td>2.613933</td>\n",
       "      <td>25.909365</td>\n",
       "      <td>2.256130</td>\n",
       "      <td>2.255902</td>\n",
       "    </tr>\n",
       "    <tr>\n",
       "      <th>...</th>\n",
       "      <td>...</td>\n",
       "      <td>...</td>\n",
       "      <td>...</td>\n",
       "      <td>...</td>\n",
       "      <td>...</td>\n",
       "      <td>...</td>\n",
       "      <td>...</td>\n",
       "      <td>...</td>\n",
       "      <td>...</td>\n",
       "      <td>...</td>\n",
       "    </tr>\n",
       "    <tr>\n",
       "      <th>85897</th>\n",
       "      <td>0.144</td>\n",
       "      <td>0.0</td>\n",
       "      <td>0.0</td>\n",
       "      <td>0.0</td>\n",
       "      <td>0.0</td>\n",
       "      <td>9</td>\n",
       "      <td>6.160540</td>\n",
       "      <td>0.000000</td>\n",
       "      <td>0.000000</td>\n",
       "      <td>0.000365</td>\n",
       "    </tr>\n",
       "    <tr>\n",
       "      <th>85902</th>\n",
       "      <td>0.182</td>\n",
       "      <td>0.0</td>\n",
       "      <td>0.0</td>\n",
       "      <td>0.0</td>\n",
       "      <td>0.0</td>\n",
       "      <td>9</td>\n",
       "      <td>6.160540</td>\n",
       "      <td>0.000000</td>\n",
       "      <td>0.000000</td>\n",
       "      <td>0.001330</td>\n",
       "    </tr>\n",
       "    <tr>\n",
       "      <th>85903</th>\n",
       "      <td>0.222</td>\n",
       "      <td>0.0</td>\n",
       "      <td>0.0</td>\n",
       "      <td>0.0</td>\n",
       "      <td>0.0</td>\n",
       "      <td>9</td>\n",
       "      <td>6.160540</td>\n",
       "      <td>0.000000</td>\n",
       "      <td>0.000000</td>\n",
       "      <td>0.003448</td>\n",
       "    </tr>\n",
       "    <tr>\n",
       "      <th>85907</th>\n",
       "      <td>0.202</td>\n",
       "      <td>0.0</td>\n",
       "      <td>0.0</td>\n",
       "      <td>0.0</td>\n",
       "      <td>0.0</td>\n",
       "      <td>9</td>\n",
       "      <td>6.160540</td>\n",
       "      <td>0.000000</td>\n",
       "      <td>0.000000</td>\n",
       "      <td>0.005909</td>\n",
       "    </tr>\n",
       "    <tr>\n",
       "      <th>85909</th>\n",
       "      <td>0.191</td>\n",
       "      <td>0.0</td>\n",
       "      <td>0.0</td>\n",
       "      <td>0.0</td>\n",
       "      <td>0.0</td>\n",
       "      <td>9</td>\n",
       "      <td>6.160540</td>\n",
       "      <td>0.000000</td>\n",
       "      <td>0.000000</td>\n",
       "      <td>0.000360</td>\n",
       "    </tr>\n",
       "  </tbody>\n",
       "</table>\n",
       "<p>45961 rows × 10 columns</p>\n",
       "</div>"
      ],
      "text/plain": [
       "        coef  max_speed  max_dir  avg_speed  avg_dir  month  VARMAX_pred  \\\n",
       "1      1.974       40.0      2.0       41.0      2.0      1     3.084103   \n",
       "2      1.728       36.0      2.0       23.0      2.0      1     2.356797   \n",
       "3      1.272       23.0      2.0       15.0      2.0      1     2.679792   \n",
       "4      1.015       15.0      2.0       14.0      2.0      1     2.881641   \n",
       "5      0.997       15.0      2.0       15.0      2.0      1     2.613933   \n",
       "...      ...        ...      ...        ...      ...    ...          ...   \n",
       "85897  0.144        0.0      0.0        0.0      0.0      9     6.160540   \n",
       "85902  0.182        0.0      0.0        0.0      0.0      9     6.160540   \n",
       "85903  0.222        0.0      0.0        0.0      0.0      9     6.160540   \n",
       "85907  0.202        0.0      0.0        0.0      0.0      9     6.160540   \n",
       "85909  0.191        0.0      0.0        0.0      0.0      9     6.160540   \n",
       "\n",
       "       avg_speed_regression_imputed  avg_speed_imputed_transform  \\\n",
       "1                         39.349417                     2.504578   \n",
       "2                         37.250066                     2.470482   \n",
       "3                         30.231611                     2.344851   \n",
       "4                         25.899117                     2.255907   \n",
       "5                         25.909365                     2.256130   \n",
       "...                             ...                          ...   \n",
       "85897                      0.000000                     0.000000   \n",
       "85902                      0.000000                     0.000000   \n",
       "85903                      0.000000                     0.000000   \n",
       "85907                      0.000000                     0.000000   \n",
       "85909                      0.000000                     0.000000   \n",
       "\n",
       "       SARIMAX_preds  \n",
       "1           2.531092  \n",
       "2           2.504573  \n",
       "3           2.470478  \n",
       "4           2.344847  \n",
       "5           2.255902  \n",
       "...              ...  \n",
       "85897       0.000365  \n",
       "85902       0.001330  \n",
       "85903       0.003448  \n",
       "85907       0.005909  \n",
       "85909       0.000360  \n",
       "\n",
       "[45961 rows x 10 columns]"
      ]
     },
     "execution_count": 54,
     "metadata": {},
     "output_type": "execute_result"
    }
   ],
   "source": [
    "data"
   ]
  },
  {
   "cell_type": "code",
   "execution_count": 55,
   "metadata": {},
   "outputs": [],
   "source": [
    "data = data.dropna()"
   ]
  },
  {
   "cell_type": "code",
   "execution_count": 56,
   "metadata": {},
   "outputs": [],
   "source": [
    "#Prepare a Train-Test Split to run our models.\n",
    "X_train, X_test, y_train, y_test = train_test_split(data[['coef', 'max_speed', 'max_dir',\"avg_dir\",\"month\"]],\n",
    "                                                    data['avg_speed_imputed_transform'],\n",
    "                                                    test_size = 0.2,shuffle = False)"
   ]
  },
  {
   "cell_type": "code",
   "execution_count": 57,
   "metadata": {},
   "outputs": [],
   "source": [
    "from hmmlearn.hmm import GaussianHMM"
   ]
  },
  {
   "cell_type": "code",
   "execution_count": 58,
   "metadata": {},
   "outputs": [],
   "source": [
    "hmm = GaussianHMM(n_components=6, covariance_type=\"full\",algorithm='viterbi')"
   ]
  },
  {
   "cell_type": "code",
   "execution_count": 59,
   "metadata": {},
   "outputs": [],
   "source": [
    "y_train = np.array(y_train)\n",
    "y_train = np.reshape(y_train, (-1,1))"
   ]
  },
  {
   "cell_type": "code",
   "execution_count": 60,
   "metadata": {},
   "outputs": [],
   "source": [
    "fitted_model = hmm.fit(y_train)"
   ]
  },
  {
   "cell_type": "code",
   "execution_count": 61,
   "metadata": {},
   "outputs": [],
   "source": [
    "y_test = np.array(y_test)\n",
    "y_test = np.reshape(y_test, (-1,1))"
   ]
  },
  {
   "cell_type": "code",
   "execution_count": 62,
   "metadata": {},
   "outputs": [],
   "source": [
    "markov_pred = fitted_model.predict(y_test)"
   ]
  },
  {
   "cell_type": "code",
   "execution_count": 63,
   "metadata": {},
   "outputs": [],
   "source": [
    "y_train = pd.DataFrame(y_train)"
   ]
  },
  {
   "cell_type": "code",
   "execution_count": 64,
   "metadata": {},
   "outputs": [],
   "source": [
    "y_test = pd.DataFrame(y_test)"
   ]
  },
  {
   "cell_type": "code",
   "execution_count": 65,
   "metadata": {},
   "outputs": [],
   "source": [
    "markov =pd.DataFrame(markov_pred)"
   ]
  },
  {
   "cell_type": "code",
   "execution_count": 66,
   "metadata": {},
   "outputs": [
    {
     "data": {
      "text/html": [
       "<div>\n",
       "<style scoped>\n",
       "    .dataframe tbody tr th:only-of-type {\n",
       "        vertical-align: middle;\n",
       "    }\n",
       "\n",
       "    .dataframe tbody tr th {\n",
       "        vertical-align: top;\n",
       "    }\n",
       "\n",
       "    .dataframe thead th {\n",
       "        text-align: right;\n",
       "    }\n",
       "</style>\n",
       "<table border=\"1\" class=\"dataframe\">\n",
       "  <thead>\n",
       "    <tr style=\"text-align: right;\">\n",
       "      <th></th>\n",
       "      <th>0</th>\n",
       "    </tr>\n",
       "  </thead>\n",
       "  <tbody>\n",
       "    <tr>\n",
       "      <th>0</th>\n",
       "      <td>3</td>\n",
       "    </tr>\n",
       "    <tr>\n",
       "      <th>1</th>\n",
       "      <td>4</td>\n",
       "    </tr>\n",
       "    <tr>\n",
       "      <th>2</th>\n",
       "      <td>1</td>\n",
       "    </tr>\n",
       "    <tr>\n",
       "      <th>3</th>\n",
       "      <td>1</td>\n",
       "    </tr>\n",
       "    <tr>\n",
       "      <th>4</th>\n",
       "      <td>1</td>\n",
       "    </tr>\n",
       "    <tr>\n",
       "      <th>...</th>\n",
       "      <td>...</td>\n",
       "    </tr>\n",
       "    <tr>\n",
       "      <th>9188</th>\n",
       "      <td>0</td>\n",
       "    </tr>\n",
       "    <tr>\n",
       "      <th>9189</th>\n",
       "      <td>0</td>\n",
       "    </tr>\n",
       "    <tr>\n",
       "      <th>9190</th>\n",
       "      <td>0</td>\n",
       "    </tr>\n",
       "    <tr>\n",
       "      <th>9191</th>\n",
       "      <td>0</td>\n",
       "    </tr>\n",
       "    <tr>\n",
       "      <th>9192</th>\n",
       "      <td>0</td>\n",
       "    </tr>\n",
       "  </tbody>\n",
       "</table>\n",
       "<p>9193 rows × 1 columns</p>\n",
       "</div>"
      ],
      "text/plain": [
       "      0\n",
       "0     3\n",
       "1     4\n",
       "2     1\n",
       "3     1\n",
       "4     1\n",
       "...  ..\n",
       "9188  0\n",
       "9189  0\n",
       "9190  0\n",
       "9191  0\n",
       "9192  0\n",
       "\n",
       "[9193 rows x 1 columns]"
      ]
     },
     "execution_count": 66,
     "metadata": {},
     "output_type": "execute_result"
    }
   ],
   "source": [
    "markov"
   ]
  },
  {
   "cell_type": "code",
   "execution_count": 67,
   "metadata": {},
   "outputs": [
    {
     "data": {
      "text/plain": [
       "(9193, 1)"
      ]
     },
     "execution_count": 67,
     "metadata": {},
     "output_type": "execute_result"
    }
   ],
   "source": [
    "y_test.shape"
   ]
  },
  {
   "cell_type": "code",
   "execution_count": 68,
   "metadata": {},
   "outputs": [
    {
     "data": {
      "text/plain": [
       "(9193, 1)"
      ]
     },
     "execution_count": 68,
     "metadata": {},
     "output_type": "execute_result"
    }
   ],
   "source": [
    "markov.shape"
   ]
  },
  {
   "cell_type": "code",
   "execution_count": 73,
   "metadata": {},
   "outputs": [
    {
     "name": "stdout",
     "output_type": "stream",
     "text": [
      "MARKOV MSE is: 5.384998362563373\n",
      "MARKOV RMSE is: 2.32055992436381\n",
      "Avg Wind Speed is: 3.3926901585965834\n",
      "Avg Wind Speed Prediction is: 1.7950614598063743\n"
     ]
    }
   ],
   "source": [
    "#Obtain scoring metrics for our model.\n",
    "mse = mean_squared_error(y_test, markov)\n",
    "print(\"MARKOV MSE is:\", mse)\n",
    "rmse = math.sqrt(mse)\n",
    "print(\"MARKOV RMSE is:\", rmse)\n",
    "mean1 = statistics.mean(y_test[0])\n",
    "print(\"Avg Wind Speed is:\", mean1 )\n",
    "mean2 = statistics.mean(markov[0])\n",
    "print(\"Avg Wind Speed Prediction is:\", mean2 )"
   ]
  },
  {
   "cell_type": "code",
   "execution_count": 74,
   "metadata": {},
   "outputs": [],
   "source": [
    "mask4 = markov > 0"
   ]
  },
  {
   "cell_type": "code",
   "execution_count": 75,
   "metadata": {},
   "outputs": [],
   "source": [
    "markov = markov[mask4]"
   ]
  },
  {
   "cell_type": "code",
   "execution_count": 76,
   "metadata": {},
   "outputs": [],
   "source": [
    "markov =markov.dropna()"
   ]
  },
  {
   "cell_type": "code",
   "execution_count": 77,
   "metadata": {},
   "outputs": [
    {
     "data": {
      "image/png": "[encoded data removed]",
      "text/plain": [
       "<Figure size 576x360 with 1 Axes>"
      ]
     },
     "metadata": {
      "needs_background": "light"
     },
     "output_type": "display_data"
    }
   ],
   "source": [
    "plt.figure(figsize=(8,5))\n",
    "plt.plot(y_train.index,y_train, c = 'blue');\n",
    "plt.plot(y_test.index,y_test, c = 'orange');\n",
    "plt.plot(markov.index, markov, c = 'green');\n",
    "plt.title(\"Wind Speed Predictions, Markov Model, 2001\");"
   ]
  },
  {
   "cell_type": "markdown",
   "metadata": {},
   "source": [
    "#######The Hidden Markov Model is the worst model yet but it has moderately low MSE and RMSE scores and decent predictive power of wind speeds. This model is a worse fit than the other models probably because Markov models are better at classification algorithms than continuous predictions. This model needs some improvement if it is to be applied to time series modeling more accurately. Also, please note that the green lines in the plot above overlap with y_test because I trained my model on y_train but tested it on y_test for accuracy."
   ]
  },
  {
   "cell_type": "code",
   "execution_count": null,
   "metadata": {},
   "outputs": [],
   "source": []
  },
  {
   "cell_type": "markdown",
   "metadata": {},
   "source": [
    "### Introduction to Exponential Smoothing for Time Series Forecasting on All 12 Months (January-December 2001):"
   ]
  },
  {
   "cell_type": "markdown",
   "metadata": {},
   "source": [
    "####Exponential smoothing forecasting is one of the best methods for time series forecasting in univariate data that can be used to include systematic trends and/or seasonal components. Time series methods such as the ARIMA model form predictions as a weighted linear sum of recent past observations or lags. Exponential smoothing forecasting is similar in that it also forms a weighted sum of past observations but it uses an exponentially decreasing weight for past observations. There are three forms to exponential smoothing but we will be using the most advanced form here which is the triple exponential smoothing method that accounts for systematic behavior including trends and seasonality (4)!"
   ]
  },
  {
   "cell_type": "code",
   "execution_count": null,
   "metadata": {},
   "outputs": [],
   "source": [
    "data = pd.read_csv(\"./1-12_final.csv\")"
   ]
  },
  {
   "cell_type": "code",
   "execution_count": null,
   "metadata": {},
   "outputs": [],
   "source": [
    "#Consolidate DataFrame to only contain Target Values\n",
    "data = data[['coef',\"max_speed\",\"max_dir\",\"avg_speed\",\"avg_dir\",\"month\",\"VARMAX_pred\",\"avg_speed_regression_imputed\",\"avg_speed_imputed_transform\"]]"
   ]
  },
  {
   "cell_type": "code",
   "execution_count": null,
   "metadata": {},
   "outputs": [],
   "source": [
    "data"
   ]
  },
  {
   "cell_type": "code",
   "execution_count": null,
   "metadata": {},
   "outputs": [],
   "source": [
    "#Visualize the wind speed data for All 12 months in 2001\n",
    "train = data.iloc[0:-7388,:]\n",
    "test= data.iloc[-7388:, :]\n",
    "train['avg_speed_imputed_transform'].plot(legend=True,label='TRAIN')\n",
    "test['avg_speed_imputed_transform'].plot(legend=True,label='TEST',figsize=(12,8));\n",
    "plt.title(\"Wind Speed Data for All 12 months in 2001\");\n",
    "plt.xlabel(\"index\");\n",
    "plt.ylabel(\"Wind speeds mph\");"
   ]
  },
  {
   "cell_type": "markdown",
   "metadata": {},
   "source": [
    "#####The months clearly exhibit heavy cycles for each season of the year in 2001. There seems to be steady wind speeds at 3.2 mph for Winter until Spring for the months of January until February. In Spring, March and April wind speeds increase to 3.7 mph while decreasing to an all-time low in May to 2.8 mph. For Summer, in the months of June, July, and August, wind speeds increase again to around 3.8 mph. In September, they decrease again to around 3.3 mph before rising again to 3.9 mph in October until December for the Fall. There are clearly seasonal wind patterns in our data to be observed."
   ]
  },
  {
   "cell_type": "code",
   "execution_count": null,
   "metadata": {},
   "outputs": [],
   "source": [
    "data.loc[4]['month']"
   ]
  },
  {
   "cell_type": "code",
   "execution_count": null,
   "metadata": {},
   "outputs": [],
   "source": [
    "data = data[[\"coef\",\"max_speed\",\"max_dir\",\"avg_speed\",\"avg_dir\",\"month\",\"avg_speed_imputed_transform\"]]"
   ]
  },
  {
   "cell_type": "code",
   "execution_count": null,
   "metadata": {},
   "outputs": [],
   "source": [
    "#Fill in Missing Values with Zeros\n",
    "data = data.fillna(0)"
   ]
  },
  {
   "cell_type": "code",
   "execution_count": null,
   "metadata": {},
   "outputs": [],
   "source": [
    "#View our complete dataframe with target values consolidated.\n",
    "data"
   ]
  },
  {
   "cell_type": "code",
   "execution_count": null,
   "metadata": {},
   "outputs": [],
   "source": [
    "data"
   ]
  },
  {
   "cell_type": "code",
   "execution_count": null,
   "metadata": {},
   "outputs": [],
   "source": [
    "#Prepare a Train-Test Split to run our models.\n",
    "X_train, X_test, y_train, y_test = train_test_split(data[['coef', 'max_speed', 'max_dir',\"avg_dir\",\"month\"]],\n",
    "                                                    data['avg_speed_imputed_transform'],\n",
    "                                                    test_size = 0.2,shuffle = False)"
   ]
  },
  {
   "cell_type": "code",
   "execution_count": null,
   "metadata": {},
   "outputs": [],
   "source": [
    "from statsmodels.tsa.holtwinters import ExponentialSmoothing\n",
    "# The model will consider the last 12 months weighted average for forecasting\n",
    "span = 12 \n",
    "alpha = 2/(span+1)\n",
    "#For Exponential Smoothing, we are using \"additive\" trend and \"additive\" seasonal as well as setting the seasonal_periods to 12 for the 12 months. \n",
    "#We also define an alpha and beta to represent smoothing level and smoothing slope especially for the months at the end where the model starts leveling off.\n",
    "model = ExponentialSmoothing(y_train.values,trend='add',seasonal='add',seasonal_periods=12).fit(smoothing_level=alpha,smoothing_slope = 0.05)\n",
    "#Make predictions on model.\n",
    "test_predictions = model.predict(start=X_train.index.min(), end = X_test.index.max())"
   ]
  },
  {
   "cell_type": "code",
   "execution_count": null,
   "metadata": {},
   "outputs": [],
   "source": [
    "#Put predictions which are a numpy array into a DataFrame object\n",
    "data['exp_smooth_preds']=pd.DataFrame(test_predictions)"
   ]
  },
  {
   "cell_type": "code",
   "execution_count": null,
   "metadata": {},
   "outputs": [],
   "source": [
    "#We want only positive values.\n",
    "mask1 = (data['exp_smooth_preds']>0)"
   ]
  },
  {
   "cell_type": "code",
   "execution_count": null,
   "metadata": {},
   "outputs": [],
   "source": [
    "data = data[mask1]"
   ]
  },
  {
   "cell_type": "code",
   "execution_count": null,
   "metadata": {},
   "outputs": [],
   "source": [
    "#Plot the predictions against the training and testing data for comparison.\n",
    "y_train.plot(legend=True,label='TRAIN')\n",
    "y_test.plot(legend=True,label='TEST',figsize=(12,8))\n",
    "data['exp_smooth_preds'].plot(legend=True,label='PREDICTION');"
   ]
  },
  {
   "cell_type": "markdown",
   "metadata": {},
   "source": [
    "#####Our triple exponential smoothing forecasting model is doing well for the months of January to July as it correctly uses additive trends and seasonal modifications to account for the cyclic and seasonal behavior of the twelve months. After it reaches around index = 85000 or from the months of August through December hereafter, the model fails and predicts nearly zero values for all the wind speeds. Then model depends on the most recent data to make its predictions so it might be having difficulties in obtaining enough recent data near the end of the model to make the last predictions. I attempt to smooth out the ends by setting a smoothing_slope = 0.05 to prevent the predictions from becoming zero when the actual values are non-zero for August to December. Future improvements need to be made on this model. However,the MSE and RMSE scores are low compared to the other models in terms of predictions so we have a reasonably accurate model."
   ]
  },
  {
   "cell_type": "code",
   "execution_count": null,
   "metadata": {},
   "outputs": [],
   "source": [
    "#Obtain scoring metrics for our model.\n",
    "mse = mean_squared_error(data['avg_speed_imputed_transform'],data['exp_smooth_preds'])\n",
    "print(\"Exponential Smoothing MSE is:\", mse)\n",
    "rmse = math.sqrt(mse)\n",
    "print(\"Exponential Smoothing RMSE is:\", rmse)\n",
    "mean1 = statistics.mean(data['avg_speed_imputed_transform'])\n",
    "print(\"Avg Wind Speed is:\", mean1 )\n",
    "mean2 = statistics.mean(data['exp_smooth_preds'])\n",
    "print(\"Avg Wind Speed Prediction is:\", mean2 )"
   ]
  },
  {
   "cell_type": "code",
   "execution_count": null,
   "metadata": {},
   "outputs": [],
   "source": []
  },
  {
   "cell_type": "markdown",
   "metadata": {},
   "source": [
    "### References:\n",
    "######1)Thurinav, Aars, \"What is ARIMA?,\" Quora.com, Sept. 23, 2018, https://www.quora.com/What-is-ARIMA .\n",
    "######2)Nelson, Joseph, \"ARIMA Modeling,\" General Assembly, Data Science Immersive, June 15, 2019.\n",
    "######3)Brown, Barbara G., \"Time Series Models to Simulate and Forecast Wind Speed and Wind Power,\" Journal of Climate and Applied Meteorology, Vol 23, May, 22, 1984.\n",
    "######4)Brownlee, Jason, \"A Gentle Introduction to Exponential Smoothing for Time Series Forecasting in Python,\" Machine Learning Mastery, April 12, 2020, https://machinelearningmastery.com/exponential-smoothing-for-time-series-forecasting-in-python/.\n",
    "######5)\"VARMAX,\" Teradata Aster® Analytics Foundation User GuideUpdate 2, September 2007, https://docs.teradata.com/reader/3okbeHFSumK40IVQmGj6NQ/lMOhmxSUEJoxBnzmY9ehPA.\n",
    "######6)Brownlee, Jason, \"A Gentle Introduction to SARIMA for Time Series Forecasting in Python,\" Machine Learning Mastery, August 21, 2019, https://machinelearningmastery.com/sarima-for-time-series-forecasting-in-python/.\n",
    "######7)Sahu, Deepak Kumar, \"Introduction to Hidden Markov Models using Python,\" DigitalVidya.com, May 3, 2018, https://www.digitalvidya.com/blog/markov-models/."
   ]
  },
  {
   "cell_type": "code",
   "execution_count": null,
   "metadata": {},
   "outputs": [],
   "source": []
  }
 ],
 "metadata": {
  "kernelspec": {
   "display_name": "Python 3",
   "language": "python",
   "name": "python3"
  },
  "language_info": {
   "codemirror_mode": {
    "name": "ipython",
    "version": 3
   },
   "file_extension": ".py",
   "mimetype": "text/x-python",
   "name": "python",
   "nbconvert_exporter": "python",
   "pygments_lexer": "ipython3",
   "version": "3.7.3"
  }
 },
 "nbformat": 4,
 "nbformat_minor": 2
}
